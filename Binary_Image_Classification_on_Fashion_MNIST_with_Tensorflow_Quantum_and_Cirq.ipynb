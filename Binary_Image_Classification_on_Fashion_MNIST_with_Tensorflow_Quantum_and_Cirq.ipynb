{
  "nbformat": 4,
  "nbformat_minor": 0,
  "metadata": {
    "colab": {
      "provenance": [],
      "collapsed_sections": [
        "qIHL_vSPaSlP",
        "aU_w7lJpdIo1",
        "h390sg2Ronze",
        "4uNcdDlIGe0M",
        "wHDNLMH2L08V",
        "xu2xTeDCMWek"
      ]
    },
    "kernelspec": {
      "name": "python3",
      "display_name": "Python 3"
    },
    "language_info": {
      "name": "python"
    }
  },
  "cells": [
    {
      "cell_type": "markdown",
      "source": [
        "## Binary Image Classification on Fashion MNIST with Tensorflow-Quantum and Cirq"
      ],
      "metadata": {
        "id": "c6XC-qgsaE4g"
      }
    },
    {
      "cell_type": "markdown",
      "source": [
        "#### About dataset and QML"
      ],
      "metadata": {
        "id": "BSChYtO9UnDU"
      }
    },
    {
      "cell_type": "markdown",
      "source": [
        "We shall perform QML on Fashion MNIST dataset which contains 10 labels using TensorFLow Quantum and Cirq.Fashion-MNIST is intended to serve as a direct drop-in replacement for the original MNIST dataset to benchmark machine learning algorithms, as it shares the same image size and the structure of training and testing splits.\n",
        "\n",
        "[TensorFlow-Quantum](https://www.tensorflow.org/quantum) is a great place to start learning QML and get into this amazing field. TensorFlow Quantum (TFQ) is a quantum machine learning library for rapid prototyping of hybrid quantum-classical ML models.TensorFlow Quantum focuses on quantum data and building hybrid quantum-classical models. It integrates quantum computing algorithms and logic designed in Cirq, and provides quantum computing primitives compatible with existing TensorFlow APIs, along with high-performance quantum circuit simulators.\n",
        "\n",
        "[Cirq](https://quantumai.google/cirq) is a Python software library for writing, manipulating, and optimizing quantum circuits, and then running them on quantum computers and quantum simulators. Cirq provides useful abstractions for dealing with today’s noisy intermediate-scale quantum computers, where details of the hardware are vital to achieving state-of-the-art results.\n",
        "\n",
        "\n",
        "We will modify the Fashion MNIST dataset by making classification on only two classes - T-shirt and Shirt. The reason to choose these classes is that they are similar to each other and therefore, it ascertains that the classification problem doesn't become very easy. The image shape in the provided dataset is (28,28), but we need to downscale the images to classify them using QML due to the hardware restrictions. We will downscale the images so that they have the shape (4,4).\n",
        "\n",
        "Number of Images in the Train Dataset - **10200**\n",
        "\n",
        "Number of Images in the Validation Dataset - **1800**\n",
        "\n",
        "Number of Images in the Test Dataset - **2000**\n",
        "\n",
        "Size of each Image - **(2,2)**\n",
        "\n",
        "Type of Image - **Grayscale Image**\n",
        "\n",
        "Number of Labels - **2**\n",
        "\n",
        "| **Label** | **Description**   |\n",
        "|------|------|\n",
        "|   **0**  | **Tshirt/top**|\n",
        "|   **6**  | **Shirt** |  \n",
        "\n",
        "Checkout the Dataset [Here](https://www.kaggle.com/datasets/zalando-research/fashionmnist)"
      ],
      "metadata": {
        "id": "AIWVXyeTNcU8"
      }
    },
    {
      "cell_type": "markdown",
      "source": [
        "#### Installing required packages"
      ],
      "metadata": {
        "id": "qIHL_vSPaSlP"
      }
    },
    {
      "cell_type": "code",
      "execution_count": null,
      "metadata": {
        "colab": {
          "base_uri": "https://localhost:8080/"
        },
        "id": "5zZo2JiaZ30p",
        "outputId": "57fe0f37-41f3-46bc-83a3-95c095297f83"
      },
      "outputs": [
        {
          "output_type": "stream",
          "name": "stdout",
          "text": [
            "\u001b[K     |████████████████████████████████| 320.4 MB 22 kB/s \n",
            "\u001b[K     |████████████████████████████████| 2.9 MB 12.9 MB/s \n",
            "\u001b[K     |████████████████████████████████| 459 kB 15.5 MB/s \n",
            "\u001b[K     |████████████████████████████████| 20.1 MB 1.3 MB/s \n",
            "\u001b[31mERROR: pip's dependency resolver does not currently take into account all the packages that are installed. This behaviour is the source of the following dependency conflicts.\n",
            "xarray-einstats 0.2.2 requires numpy>=1.21, but you have numpy 1.18.5 which is incompatible.\n",
            "tables 3.7.0 requires numpy>=1.19.0, but you have numpy 1.18.5 which is incompatible.\n",
            "plotnine 0.8.0 requires numpy>=1.19.0, but you have numpy 1.18.5 which is incompatible.\n",
            "jaxlib 0.3.22+cuda11.cudnn805 requires numpy>=1.20, but you have numpy 1.18.5 which is incompatible.\n",
            "jax 0.3.23 requires numpy>=1.20, but you have numpy 1.18.5 which is incompatible.\n",
            "cmdstanpy 1.0.7 requires numpy>=1.21, but you have numpy 1.18.5 which is incompatible.\u001b[0m\n",
            "\u001b[?25h"
          ]
        }
      ],
      "source": [
        "from IPython.display import clear_output\n",
        "!pip install -q tensorflow==2.3.1"
      ]
    },
    {
      "cell_type": "code",
      "source": [
        "#Installing Tensorflow Quantum\n",
        "!pip install -q tensorflow_quantum==0.4.0"
      ],
      "metadata": {
        "colab": {
          "base_uri": "https://localhost:8080/"
        },
        "id": "LEzguHJXashA",
        "outputId": "a3526c7e-e153-4aa0-bca3-2238ac40e72e"
      },
      "execution_count": null,
      "outputs": [
        {
          "output_type": "stream",
          "name": "stdout",
          "text": [
            "\u001b[K     |████████████████████████████████| 5.9 MB 5.3 MB/s \n",
            "\u001b[K     |████████████████████████████████| 5.6 MB 44.8 MB/s \n",
            "\u001b[K     |████████████████████████████████| 1.6 MB 44.6 MB/s \n",
            "\u001b[K     |████████████████████████████████| 1.3 MB 46.8 MB/s \n",
            "\u001b[K     |████████████████████████████████| 211 kB 39.2 MB/s \n",
            "\u001b[K     |████████████████████████████████| 211 kB 36.5 MB/s \n",
            "\u001b[K     |████████████████████████████████| 211 kB 33.4 MB/s \n",
            "\u001b[K     |████████████████████████████████| 241 kB 55.2 MB/s \n",
            "\u001b[31mERROR: pip's dependency resolver does not currently take into account all the packages that are installed. This behaviour is the source of the following dependency conflicts.\n",
            "tensorflow-metadata 1.10.0 requires protobuf<4,>=3.13, but you have protobuf 3.12.4 which is incompatible.\u001b[0m\n",
            "\u001b[?25h"
          ]
        }
      ]
    },
    {
      "cell_type": "code",
      "source": [
        "#Installing Cirq\n",
        "!pip install cirq==0.9.1"
      ],
      "metadata": {
        "colab": {
          "base_uri": "https://localhost:8080/"
        },
        "id": "2_tO5Y4qwfBi",
        "outputId": "2be2416d-5645-4555-f4ee-87590d407c7d"
      },
      "execution_count": null,
      "outputs": [
        {
          "output_type": "stream",
          "name": "stdout",
          "text": [
            "Looking in indexes: https://pypi.org/simple, https://us-python.pkg.dev/colab-wheels/public/simple/\n",
            "Requirement already satisfied: cirq==0.9.1 in /usr/local/lib/python3.7/dist-packages (0.9.1)\n",
            "Requirement already satisfied: networkx~=2.4 in /usr/local/lib/python3.7/dist-packages (from cirq==0.9.1) (2.6.3)\n",
            "Requirement already satisfied: pandas in /usr/local/lib/python3.7/dist-packages (from cirq==0.9.1) (1.3.5)\n",
            "Requirement already satisfied: sympy in /usr/local/lib/python3.7/dist-packages (from cirq==0.9.1) (1.5)\n",
            "Requirement already satisfied: typing-extensions in /usr/local/lib/python3.7/dist-packages (from cirq==0.9.1) (4.1.1)\n",
            "Requirement already satisfied: freezegun~=0.3.15 in /usr/local/lib/python3.7/dist-packages (from cirq==0.9.1) (0.3.15)\n",
            "Requirement already satisfied: protobuf~=3.12.0 in /usr/local/lib/python3.7/dist-packages (from cirq==0.9.1) (3.12.4)\n",
            "Requirement already satisfied: numpy~=1.16 in /usr/local/lib/python3.7/dist-packages (from cirq==0.9.1) (1.18.5)\n",
            "Requirement already satisfied: scipy in /usr/local/lib/python3.7/dist-packages (from cirq==0.9.1) (1.7.3)\n",
            "Requirement already satisfied: sortedcontainers~=2.0 in /usr/local/lib/python3.7/dist-packages (from cirq==0.9.1) (2.4.0)\n",
            "Requirement already satisfied: requests~=2.18 in /usr/local/lib/python3.7/dist-packages (from cirq==0.9.1) (2.23.0)\n",
            "Requirement already satisfied: matplotlib~=3.0 in /usr/local/lib/python3.7/dist-packages (from cirq==0.9.1) (3.2.2)\n",
            "Requirement already satisfied: google-api-core[grpc]<2.0.0dev,>=1.14.0 in /usr/local/lib/python3.7/dist-packages (from cirq==0.9.1) (1.31.6)\n",
            "Requirement already satisfied: python-dateutil!=2.0,>=1.0 in /usr/local/lib/python3.7/dist-packages (from freezegun~=0.3.15->cirq==0.9.1) (2.8.2)\n",
            "Requirement already satisfied: six in /usr/local/lib/python3.7/dist-packages (from freezegun~=0.3.15->cirq==0.9.1) (1.15.0)\n",
            "Requirement already satisfied: setuptools>=40.3.0 in /usr/local/lib/python3.7/dist-packages (from google-api-core[grpc]<2.0.0dev,>=1.14.0->cirq==0.9.1) (57.4.0)\n",
            "Requirement already satisfied: google-auth<2.0dev,>=1.25.0 in /usr/local/lib/python3.7/dist-packages (from google-api-core[grpc]<2.0.0dev,>=1.14.0->cirq==0.9.1) (1.35.0)\n",
            "Requirement already satisfied: pytz in /usr/local/lib/python3.7/dist-packages (from google-api-core[grpc]<2.0.0dev,>=1.14.0->cirq==0.9.1) (2022.5)\n",
            "Requirement already satisfied: googleapis-common-protos<2.0dev,>=1.6.0 in /usr/local/lib/python3.7/dist-packages (from google-api-core[grpc]<2.0.0dev,>=1.14.0->cirq==0.9.1) (1.56.0)\n",
            "Requirement already satisfied: packaging>=14.3 in /usr/local/lib/python3.7/dist-packages (from google-api-core[grpc]<2.0.0dev,>=1.14.0->cirq==0.9.1) (21.3)\n",
            "Requirement already satisfied: grpcio<2.0dev,>=1.29.0 in /usr/local/lib/python3.7/dist-packages (from google-api-core[grpc]<2.0.0dev,>=1.14.0->cirq==0.9.1) (1.50.0)\n",
            "Requirement already satisfied: cachetools<5.0,>=2.0.0 in /usr/local/lib/python3.7/dist-packages (from google-auth<2.0dev,>=1.25.0->google-api-core[grpc]<2.0.0dev,>=1.14.0->cirq==0.9.1) (4.2.4)\n",
            "Requirement already satisfied: rsa<5,>=3.1.4 in /usr/local/lib/python3.7/dist-packages (from google-auth<2.0dev,>=1.25.0->google-api-core[grpc]<2.0.0dev,>=1.14.0->cirq==0.9.1) (4.9)\n",
            "Requirement already satisfied: pyasn1-modules>=0.2.1 in /usr/local/lib/python3.7/dist-packages (from google-auth<2.0dev,>=1.25.0->google-api-core[grpc]<2.0.0dev,>=1.14.0->cirq==0.9.1) (0.2.8)\n",
            "Requirement already satisfied: cycler>=0.10 in /usr/local/lib/python3.7/dist-packages (from matplotlib~=3.0->cirq==0.9.1) (0.11.0)\n",
            "Requirement already satisfied: pyparsing!=2.0.4,!=2.1.2,!=2.1.6,>=2.0.1 in /usr/local/lib/python3.7/dist-packages (from matplotlib~=3.0->cirq==0.9.1) (3.0.9)\n",
            "Requirement already satisfied: kiwisolver>=1.0.1 in /usr/local/lib/python3.7/dist-packages (from matplotlib~=3.0->cirq==0.9.1) (1.4.4)\n",
            "Requirement already satisfied: pyasn1<0.5.0,>=0.4.6 in /usr/local/lib/python3.7/dist-packages (from pyasn1-modules>=0.2.1->google-auth<2.0dev,>=1.25.0->google-api-core[grpc]<2.0.0dev,>=1.14.0->cirq==0.9.1) (0.4.8)\n",
            "Requirement already satisfied: certifi>=2017.4.17 in /usr/local/lib/python3.7/dist-packages (from requests~=2.18->cirq==0.9.1) (2022.9.24)\n",
            "Requirement already satisfied: chardet<4,>=3.0.2 in /usr/local/lib/python3.7/dist-packages (from requests~=2.18->cirq==0.9.1) (3.0.4)\n",
            "Requirement already satisfied: urllib3!=1.25.0,!=1.25.1,<1.26,>=1.21.1 in /usr/local/lib/python3.7/dist-packages (from requests~=2.18->cirq==0.9.1) (1.24.3)\n",
            "Requirement already satisfied: idna<3,>=2.5 in /usr/local/lib/python3.7/dist-packages (from requests~=2.18->cirq==0.9.1) (2.10)\n",
            "Requirement already satisfied: mpmath>=0.19 in /usr/local/lib/python3.7/dist-packages (from sympy->cirq==0.9.1) (1.2.1)\n"
          ]
        }
      ]
    },
    {
      "cell_type": "markdown",
      "source": [
        "### Importing dataset and required packages"
      ],
      "metadata": {
        "id": "aU_w7lJpdIo1"
      }
    },
    {
      "cell_type": "code",
      "source": [
        "import tensorflow as tf\n",
        "#Data Preprocessing tools\n",
        "import numpy as np\n",
        "from sklearn.model_selection import train_test_split\n",
        "#QML tools\n",
        "import tensorflow_quantum as tfq\n",
        "import cirq\n",
        "import sympy\n",
        "\n",
        "# Visualization Tools\n",
        "from cirq.contrib.svg import SVGCircuit\n",
        "import matplotlib.pyplot as plt"
      ],
      "metadata": {
        "id": "dFF-OutxwuIg"
      },
      "execution_count": null,
      "outputs": []
    },
    {
      "cell_type": "code",
      "source": [
        "#Lets print the version of cirq and tfq that we will use\n",
        "print(\"We are using the TensorFlow-Quantum version {}\".format(tfq.__version__))\n",
        "print(\"We are using the Cirq version {}\".format(cirq.__version__))"
      ],
      "metadata": {
        "colab": {
          "base_uri": "https://localhost:8080/"
        },
        "id": "cfW98ScPjBQF",
        "outputId": "32f4736c-d968-4ff2-8aec-fd67d81c8e9d"
      },
      "execution_count": null,
      "outputs": [
        {
          "output_type": "stream",
          "name": "stdout",
          "text": [
            "We are using the TensorFlow-Quantum version 0.4.0\n",
            "We are using the Cirq version 0.9.1\n"
          ]
        }
      ]
    },
    {
      "cell_type": "code",
      "source": [
        "#importing the Fashion MNIST dataset from keras\n",
        "from tensorflow.keras.datasets import fashion_mnist as dataset"
      ],
      "metadata": {
        "id": "uyAnwDrDjEXm"
      },
      "execution_count": null,
      "outputs": []
    },
    {
      "cell_type": "code",
      "source": [
        "(X_train , y_train),(X_test,y_test) = dataset.load_data()"
      ],
      "metadata": {
        "id": "rNYt8_rLj21d"
      },
      "execution_count": null,
      "outputs": []
    },
    {
      "cell_type": "code",
      "source": [
        "print(\"The shape of the X_train is {}\".format( X_train.shape))\n",
        "print(\"The shape of the y_train is {}\".format(y_train.shape))\n",
        "print(\"The shape of the X_test is {}\".format(X_test.shape))\n",
        "print(\"The shape of the y_test is {}\".format(y_test.shape))"
      ],
      "metadata": {
        "colab": {
          "base_uri": "https://localhost:8080/"
        },
        "id": "Ubc-cNN-kC8N",
        "outputId": "16b8f64c-b47d-4ae2-c0af-0afdbf612f59"
      },
      "execution_count": null,
      "outputs": [
        {
          "output_type": "stream",
          "name": "stdout",
          "text": [
            "The shape of the X_train is (60000, 28, 28)\n",
            "The shape of the y_train is (60000,)\n",
            "The shape of the X_test is (10000, 28, 28)\n",
            "The shape of the y_test is (10000,)\n"
          ]
        }
      ]
    },
    {
      "cell_type": "markdown",
      "source": [
        "**X_train has 60,000 images,each of size 28x28**"
      ],
      "metadata": {
        "id": "2FqDA4_Vkb6e"
      }
    },
    {
      "cell_type": "markdown",
      "source": [
        "### Data Processing"
      ],
      "metadata": {
        "id": "h390sg2Ronze"
      }
    },
    {
      "cell_type": "code",
      "source": [
        "def filter_data(x, y):           # Function to filter the data and extract only images of labels '0' and '6'\n",
        "  #filter the data using labels  # 0 = 'T-shirt' and 6 = 'Shirt'\n",
        "  keep = (y == 0) | (y == 6)\n",
        "  x, y = x[keep], y[keep]\n",
        "\n",
        "  # convert labels to boolean\n",
        "  # y = True if y==0\n",
        "  # y = False if y==6\n",
        "  y = y == 0\n",
        "  return x,y"
      ],
      "metadata": {
        "id": "hKEfm4QZkbR1"
      },
      "execution_count": null,
      "outputs": []
    },
    {
      "cell_type": "code",
      "source": [
        "#Filter the train set\n",
        "X_train, y_train = filter_data(X_train, y_train)\n",
        "\n",
        "#Filter the test_set\n",
        "X_test, y_test = filter_data(X_test, y_test)"
      ],
      "metadata": {
        "id": "fQP-LwKwkGu-"
      },
      "execution_count": null,
      "outputs": []
    },
    {
      "cell_type": "code",
      "source": [
        "#shapes of train and test data after filtering\n",
        "print(\"The shape of the X_train is {}\".format( X_train.shape))\n",
        "print(\"The shape of the y_train is {}\".format(y_train.shape))\n",
        "print(\"The shape of the X_test is {}\".format(X_test.shape))\n",
        "print(\"The shape of the y_test is {}\".format(y_test.shape))"
      ],
      "metadata": {
        "colab": {
          "base_uri": "https://localhost:8080/"
        },
        "id": "SKm6xTznpDx2",
        "outputId": "65e254b6-3c19-4a4b-de0f-c390c8dbdc99"
      },
      "execution_count": null,
      "outputs": [
        {
          "output_type": "stream",
          "name": "stdout",
          "text": [
            "The shape of the X_train is (12000, 28, 28)\n",
            "The shape of the y_train is (12000,)\n",
            "The shape of the X_test is (2000, 28, 28)\n",
            "The shape of the y_test is (2000,)\n"
          ]
        }
      ]
    },
    {
      "cell_type": "code",
      "source": [
        "#Let's have a look at the first image from our X_train and the \n",
        "# corresponding label from y_train\n",
        "print(\"The First Image has the label {}\".format(y_train[0]))\n",
        "plt.imshow(X_train[0])\n",
        "plt.colorbar()\n",
        "plt.title('Visualization of the Dataset')\n",
        "plt.show()"
      ],
      "metadata": {
        "colab": {
          "base_uri": "https://localhost:8080/"
        },
        "id": "KtP2gliJpKGN",
        "outputId": "2ded0a56-9bb2-45aa-b747-151eefc579e7"
      },
      "execution_count": null,
      "outputs": [
        {
          "output_type": "stream",
          "name": "stdout",
          "text": [
            "The First Image has the label True\n"
          ]
        },
        {
          "output_type": "display_data",
          "data": {
            "text/plain": [
              "<Figure size 432x288 with 2 Axes>"
            ],
            "image/png": "[encoded data removed]"
          },
          "metadata": {
            "needs_background": "light"
          }
        }
      ]
    },
    {
      "cell_type": "markdown",
      "source": [
        "**_Here the first label is True because label is True if (y = y == 0) is True.Hence y is '0' and the image is 'T-shirt'_**\n",
        "\n",
        "From the colorbar in the above visualization, it is clear that we have grayscale images in the dataset and hence their values range from 0 to 255. However, we would like to scale these pixel values in our dataset so that the values range from 0 to 1. This will help us to converge our CNN training faster"
      ],
      "metadata": {
        "id": "HmmiiajXqaTu"
      }
    },
    {
      "cell_type": "code",
      "source": [
        "#Normalizing the train and test image data\n",
        "X_train = X_train/255.0\n",
        "X_test = X_test/ 255.0"
      ],
      "metadata": {
        "id": "LVAZzTelqLaO"
      },
      "execution_count": null,
      "outputs": []
    },
    {
      "cell_type": "code",
      "source": [
        "#Let's see if we have successfully normalized the datasets\n",
        "plt.imshow(X_train[0])\n",
        "plt.colorbar()\n",
        "plt.title('Visualization of the Dataset')\n",
        "plt.show()"
      ],
      "metadata": {
        "colab": {
          "base_uri": "https://localhost:8080/"
        },
        "id": "wTLNUbxpsgwA",
        "outputId": "961bfb7b-5296-4025-c5ae-12f6d24f0642"
      },
      "execution_count": null,
      "outputs": [
        {
          "output_type": "display_data",
          "data": {
            "text/plain": [
              "<Figure size 432x288 with 2 Axes>"
            ],
            "image/png": "[encoded data removed]"
          },
          "metadata": {
            "needs_background": "light"
          }
        }
      ]
    },
    {
      "cell_type": "code",
      "source": [
        "#Reshaping images in the dataset\n",
        "X_train = X_train.reshape(X_train.shape[0], *(28,28,1))       # Here '1' rep resents no.of channels... for Grey scale images it's '1',for RGB scale images it's '3'\n",
        "X_test = X_test.reshape(X_test.shape[0], *(28,28,1))"
      ],
      "metadata": {
        "id": "x3OFyJlssoTf"
      },
      "execution_count": null,
      "outputs": []
    },
    {
      "cell_type": "code",
      "source": [
        "# Downscaling the images (for better feeding to the quantum computer )\n",
        "X_train = tf.image.resize(X_train, (2,2)).numpy()\n",
        "X_test = tf.image.resize(X_test, (2,2)).numpy()"
      ],
      "metadata": {
        "id": "jwKvuV_jtZTP"
      },
      "execution_count": null,
      "outputs": []
    },
    {
      "cell_type": "code",
      "source": [
        "#Let's again have a look at the first image from our resized X_train\n",
        "plt.imshow(X_train[0,:,:,0])\n",
        "plt.colorbar()\n",
        "plt.title('Visualization of the Resized Dataset')\n",
        "plt.show()"
      ],
      "metadata": {
        "colab": {
          "base_uri": "https://localhost:8080/"
        },
        "id": "b97s4wAGtdGP",
        "outputId": "b4f3f6cd-2cb7-4f4b-f033-ac0c40590e2c"
      },
      "execution_count": null,
      "outputs": [
        {
          "output_type": "display_data",
          "data": {
            "text/plain": [
              "<Figure size 432x288 with 2 Axes>"
            ],
            "image/png": "[encoded data removed]"
          },
          "metadata": {
            "needs_background": "light"
          }
        }
      ]
    },
    {
      "cell_type": "code",
      "source": [
        "#Splitting the training dataset into train and validation datasets\n",
        "X_train, X_valid, y_train, y_valid = train_test_split(X_train, y_train, test_size = 0.15, random_state=0)"
      ],
      "metadata": {
        "id": "DJ6Ggq73uAZv"
      },
      "execution_count": null,
      "outputs": []
    },
    {
      "cell_type": "code",
      "source": [
        "print(\"The shape of the X_train is {}\".format(X_train.shape))\n",
        "print(\"The shape of the y_train is {}\".format(y_train.shape))\n",
        "print(\"The shape of the X_valid is {}\".format(X_valid.shape))\n",
        "print(\"The shape of the y_valid is {}\".format(y_valid.shape))"
      ],
      "metadata": {
        "colab": {
          "base_uri": "https://localhost:8080/"
        },
        "id": "JRG5N2n3uptv",
        "outputId": "92749d20-e0eb-4817-b22a-d595ee215a8c"
      },
      "execution_count": null,
      "outputs": [
        {
          "output_type": "stream",
          "name": "stdout",
          "text": [
            "The shape of the X_train is (10200, 2, 2, 1)\n",
            "The shape of the y_train is (10200,)\n",
            "The shape of the X_valid is (1800, 2, 2, 1)\n",
            "The shape of the y_valid is (1800,)\n"
          ]
        }
      ]
    },
    {
      "cell_type": "markdown",
      "source": [
        "### Data Encoding\n",
        "Steps involved in Data Encoding:\n",
        "- Processing pixel values for binary encoding\n",
        "- Converting Cirq Circuits to tfq tensors  "
      ],
      "metadata": {
        "id": "tY1tRYhku2Y_"
      }
    },
    {
      "cell_type": "markdown",
      "source": [
        "**Processing pixel values for binary encoding**"
      ],
      "metadata": {
        "id": "K9HGfC-4vUvP"
      }
    },
    {
      "cell_type": "code",
      "source": [
        "# FLattening the images\n",
        "X_train = X_train.reshape(X_train.shape[0], *(1,4,1))\n",
        "X_valid = X_valid.reshape(X_valid.shape[0], *(1,4,1))\n",
        "X_test = X_test.reshape(X_test.shape[0], *(1,4,1))"
      ],
      "metadata": {
        "id": "rGCJJBqWvUZ6"
      },
      "execution_count": null,
      "outputs": []
    },
    {
      "cell_type": "code",
      "source": [
        "print(X_train[0]) #The first example"
      ],
      "metadata": {
        "colab": {
          "base_uri": "https://localhost:8080/"
        },
        "id": "8JBdSsirutp-",
        "outputId": "12b859f0-aa95-4017-a18e-83039ae66e89"
      },
      "execution_count": null,
      "outputs": [
        {
          "output_type": "stream",
          "name": "stdout",
          "text": [
            "[[[0.8421569]\n",
            "  [0.8156863]\n",
            "  [0.       ]\n",
            "  [0.5294118]]]\n"
          ]
        }
      ]
    },
    {
      "cell_type": "code",
      "source": [
        "def binary_encode(X,threshold=0.5):\n",
        "  encoded_images = list()\n",
        "  for image in X:\n",
        "    # pixel value is 1 if it's greater than threshold or else zero\n",
        "    encoded_image = [1 if j>threshold else 0 for j in image[0]]\n",
        "    encoded_images.append(encoded_image)\n",
        "  return np.array(encoded_images)"
      ],
      "metadata": {
        "id": "paktio58_TDQ"
      },
      "execution_count": null,
      "outputs": []
    },
    {
      "cell_type": "markdown",
      "source": [
        "'binary_encode()' encodes the given dataset to use binary encoding\n",
        "\n",
        "Parameters:\n",
        "X(array) : Image data to be processed for encoding\n",
        "threshold(float): Threshold for binary encoding, 0.5 by default\n",
        "\n",
        "Returns:\n",
        "encoded_images(array): Binary encoded Image Data"
      ],
      "metadata": {
        "id": "V-xvvQJKBGeJ"
      }
    },
    {
      "cell_type": "code",
      "source": [
        "X_train = binary_encode(X_train)"
      ],
      "metadata": {
        "id": "pl1tpoHpBplS"
      },
      "execution_count": null,
      "outputs": []
    },
    {
      "cell_type": "code",
      "source": [
        "print(X_train[0])"
      ],
      "metadata": {
        "colab": {
          "base_uri": "https://localhost:8080/"
        },
        "id": "fWzGeCGIByax",
        "outputId": "e30ef788-c033-4bf1-c34f-e464a22dffd4"
      },
      "execution_count": null,
      "outputs": [
        {
          "output_type": "stream",
          "name": "stdout",
          "text": [
            "[1 1 0 1]\n"
          ]
        }
      ]
    },
    {
      "cell_type": "code",
      "source": [
        "print(\"The shape of the X_train is {}\".format(X_train.shape))"
      ],
      "metadata": {
        "colab": {
          "base_uri": "https://localhost:8080/"
        },
        "id": "EsAvcNPECrlC",
        "outputId": "3d303c6b-0893-41b2-cc24-b91ccef58e0b"
      },
      "execution_count": null,
      "outputs": [
        {
          "output_type": "stream",
          "name": "stdout",
          "text": [
            "The shape of the X_train is (10200, 4)\n"
          ]
        }
      ]
    },
    {
      "cell_type": "code",
      "source": [
        "def create_circuit_from_image(encoded_image):\n",
        "  \"\"\"\n",
        "  Returns a circuit for given encoded image\n",
        "\n",
        "  Parameters:\n",
        "  encoded_image (array): Encoded Image\n",
        "\n",
        "  Returns:\n",
        "  circuit (cirq.Circuit object): cirq circuit\n",
        "  \"\"\"\n",
        "  qubits = cirq.GridQubit.rect(2,2)\n",
        "  circuit = cirq.Circuit()\n",
        "  for i, pixel in enumerate(encoded_image):\n",
        "    if pixel:\n",
        "      circuit.append(cirq.X(qubits[i]))\n",
        "  return circuit"
      ],
      "metadata": {
        "id": "5Qg4vhbeCwiy"
      },
      "execution_count": null,
      "outputs": []
    },
    {
      "cell_type": "code",
      "source": [
        "X_train = [create_circuit_from_image(encoded_image) for encoded_image in X_train]"
      ],
      "metadata": {
        "id": "m4TNCPvj2NJt"
      },
      "execution_count": null,
      "outputs": []
    },
    {
      "cell_type": "code",
      "source": [
        "# Let's have a look at the circuit for the first image\n",
        "print(X_train[0])"
      ],
      "metadata": {
        "colab": {
          "base_uri": "https://localhost:8080/"
        },
        "id": "vsE8V43X5GWq",
        "outputId": "db60d43b-6651-4ce6-d340-d1ac1343f3f7"
      },
      "execution_count": null,
      "outputs": [
        {
          "output_type": "stream",
          "name": "stdout",
          "text": [
            "(0, 0): ───X───\n",
            "\n",
            "(0, 1): ───X───\n",
            "\n",
            "(1, 1): ───X───\n"
          ]
        }
      ]
    },
    {
      "cell_type": "markdown",
      "source": [
        "Recall that the values for the first image were 0,0,1,1. This implies that we should apply X or NOT gate the last two qubuts since all the qubits are intially in the 0 states. Applying a X gate will change this state from zero to one. Therefore, we shall apply X Gate on the last two qubits. We have initialized the four qubits in a rectangular grid. Therefore, the initialized qubits are (0,0), (0,1), (1,0) and (1,1). In the above circuit diagram, note that we have a X gate on the qubits (1,0) and (1,1) which are the last two qubits. Hence, we have successfully created circuit for our image."
      ],
      "metadata": {
        "id": "4YdNnu7r6ick"
      }
    },
    {
      "cell_type": "markdown",
      "source": [
        "**Converting Cirq Circuits to tfq Tensors**"
      ],
      "metadata": {
        "id": "jjkrQTjj8zyM"
      }
    },
    {
      "cell_type": "code",
      "source": [
        "X_train_tfq = tfq.convert_to_tensor(X_train)"
      ],
      "metadata": {
        "id": "_BRtldsP5HX6"
      },
      "execution_count": null,
      "outputs": []
    },
    {
      "cell_type": "markdown",
      "source": [
        "#### Processing X_valid and X_test"
      ],
      "metadata": {
        "id": "76rwqb1087N8"
      }
    },
    {
      "cell_type": "code",
      "source": [
        "X_valid = binary_encode(X_valid)\n",
        "X_test = binary_encode(X_test)"
      ],
      "metadata": {
        "id": "usTdLJ4G5HQq"
      },
      "execution_count": null,
      "outputs": []
    },
    {
      "cell_type": "code",
      "source": [
        "X_valid = [create_circuit_from_image(encoded_image) for encoded_image in X_valid]\n",
        "X_test = [create_circuit_from_image(encoded_image) for encoded_image in X_test]"
      ],
      "metadata": {
        "id": "zZDoMpZj5HOi"
      },
      "execution_count": null,
      "outputs": []
    },
    {
      "cell_type": "code",
      "source": [
        "X_valid_tfq = tfq.convert_to_tensor(X_valid)\n",
        "X_test_tfq = tfq.convert_to_tensor(X_test)"
      ],
      "metadata": {
        "id": "oyu_ccDl5HJe"
      },
      "execution_count": null,
      "outputs": []
    },
    {
      "cell_type": "markdown",
      "source": [
        "### Quantum Neural Network"
      ],
      "metadata": {
        "id": "wKstKbH89abs"
      }
    },
    {
      "cell_type": "markdown",
      "source": [
        "#### Build the QNN\n",
        "Building the Quantum Neural Network involves two steps\n",
        "- Build a class that adds gates layer by layer\n",
        "- Define the QNN using the class from the above step"
      ],
      "metadata": {
        "id": "G5gXF9O69kKr"
      }
    },
    {
      "cell_type": "code",
      "source": [
        "class QNN():\n",
        "    def __init__(self, data_qubits, readout):\n",
        "      self.data_qubits = data_qubits\n",
        "      self.readout = readout\n",
        "\n",
        "    def add_singleQubit_gate(self,circuit, gate, qubit_index):\n",
        "      \"\"\"\n",
        "      Adds single qubit gate to the circuit\n",
        "      Parameters:\n",
        "      circuit(cirq.Circuit object): Cirq circuit\n",
        "      gate(cirq gate): gate to append to the circuit\n",
        "      qubits(list): index of qubits to apply the gate \n",
        "      Returns:\n",
        "      None\n",
        "      \"\"\"\n",
        "      for index in qubit_index:\n",
        "        circuit.append(gate(self.data_qubits[index]))\n",
        "\n",
        "    def add_twoQubit_gate(self,circuit, gate, qubit_index):\n",
        "      \"\"\"\n",
        "      Adds two qubit gate to the circuit\n",
        "      Parameters:\n",
        "      circuit(cirq.Circuit object): Cirq circuit\n",
        "      gate(cirq gate): gate to append to the circuit\n",
        "      qubits(list): index of qubits to apply the gate\n",
        "      Returns:\n",
        "      None\n",
        "      \"\"\"\n",
        "      if len(qubit_index)!=2:\n",
        "        raise Exception(\"The length of the list of indices passed for two qubit \\\n",
        "        gate operations must be equal to two\")\n",
        "      circuit.append(gate(self.data_qubits[qubit_index[0]], self.data_qubits[qubit_index[1]]))\n",
        "\n",
        "    def add_layer(self, circuit, gate, symbol_gate):\n",
        "      \"\"\"\n",
        "      Adds New Gates/Layers to the Circuit\n",
        "      Parameters:\n",
        "      circuit(cirq.Circuit object): Cirq circuit\n",
        "      gate(cirq gate): gate to append to the circuit\n",
        "      symbol_gate(string): symbol for the gate\n",
        "      Returns:\n",
        "      None\n",
        "      \"\"\"\n",
        "      for i, qubit in enumerate(self.data_qubits):\n",
        "        symbol = sympy.Symbol(symbol_gate+ '-' + str(i))\n",
        "        circuit.append(gate(qubit, self.readout)**symbol)\n"
      ],
      "metadata": {
        "id": "nxiadSQK9aEM"
      },
      "execution_count": null,
      "outputs": []
    },
    {
      "cell_type": "code",
      "source": [
        "def create_qnn():\n",
        "    \"\"\"Create a QNN model circuit and readout operation to go along with it.\"\"\"\n",
        "    data_qubits = cirq.GridQubit.rect(2,2)  # a 4x4 grid.\n",
        "    readout = cirq.GridQubit(-1, -1)         # a single qubit at [-1,-1]\n",
        "    circuit = cirq.Circuit()\n",
        "\n",
        "    # Prepare the readout qubit.\n",
        "    circuit.append(cirq.X(readout))\n",
        "    circuit.append(cirq.H(readout))\n",
        "\n",
        "    qnn = QNN(\n",
        "        data_qubits = data_qubits,\n",
        "        readout=readout)\n",
        "    \n",
        "    \"\"\"\n",
        "    # Though we don't use single and double Qubit Gates in our Circuit, we provide \n",
        "    # the methods \"add_singleQubit_gate\" and \"add_twoQubit_gate\" for our Class QNN\n",
        "    # that can be used to add Single and Double Qubit Gates respectively.\n",
        "    # An exmaple is shown below:\n",
        "    \n",
        "\n",
        "    #Add Hadamard Gates\n",
        "    qnn.add_singleQubit_gate(circuit, cirq.H, [0,1,2,3])\n",
        "    \"\"\"\n",
        "\n",
        "    #Add CNOT gates\n",
        "    qnn.add_twoQubit_gate(circuit, cirq.CNOT, [0, 1])\n",
        "    qnn.add_twoQubit_gate(circuit, cirq.CNOT, [2, 3])\n",
        "    \n",
        "\n",
        "    # Add the ising coupling XX gate\n",
        "    qnn.add_layer(circuit, cirq.XX, \"xx\")\n",
        "    qnn.add_layer(circuit, cirq.ZZ, \"zz\")\n",
        "\n",
        "    # Finally, prepare the readout qubit.\n",
        "    circuit.append(cirq.H(readout))\n",
        "\n",
        "    return circuit, cirq.Z(readout)"
      ],
      "metadata": {
        "id": "eSL6BhVy5HG8"
      },
      "execution_count": null,
      "outputs": []
    },
    {
      "cell_type": "markdown",
      "source": [
        "**Ising Coupling Gate XX**\n",
        "\n",
        "![XX.JPG](data:image/jpeg;base64,/9j/4AAQSkZJRgABAQEAYABgAAD/4REERXhpZgAATU0AKgAAAAgABAE7AAIAAAATAAAISodpAAQAAAABAAAIXpydAAEAAAAmAAAQ1uocAAcAAAgMAAAAPgAAAAAc6gAAAAgAAAAAAAAAAAAAAAAAAAAAAAAAAAAAAAAAAAAAAAAAAAAAAAAAAAAAAAAAAAAAAAAAAAAAAAAAAAAAAAAAAAAAAAAAAAAAAAAAAAAAAAAAAAAAAAAAAAAAAAAAAAAAAAAAAAAAAAAAAAAAAAAAAAAAAAAAAAAAAAAAAAAAAAAAAAAAAAAAAAAAAAAAAAAAAAAAAAAAAAAAAAAAAAAAAAAAAAAAAAAAAAAAAAAAAAAAAAAAAAAAAAAAAAAAAAAAAAAAAAAAAAAAAAAAAAAAAAAAAAAAAAAAAAAAAAAAAAAAAAAAAAAAAAAAAAAAAAAAAAAAAAAAAAAAAAAAAAAAAAAAAAAAAAAAAAAAAAAAAAAAAAAAAAAAAAAAAAAAAAAAAAAAAAAAAAAAAAAAAAAAAAAAAAAAAAAAAAAAAAAAAAAAAAAAAAAAAAAAAAAAAAAAAAAAAAAAAAAAAAAAAAAAAAAAAAAAAAAAAAAAAAAAAAAAAAAAAAAAAAAAAAAAAAAAAAAAAAAAAAAAAAAAAAAAAAAAAAAAAAAAAAAAAAAAAAAAAAAAAAAAAAAAAAAAAAAAAAAAAAAAAAAAAAAAAAAAAAAAAAAAAAAAAAAAAAAAAAAAAAAAAAAAAAAAAAAAAAAAAAAAAAAAAAAAAAAAAAAAAAAAAAAAAAAAAAAAAAAAAAAAAAAAAAAAAAAAAAAAAAAAAAAAAAAAAAAAAAAAAAAAAAAAAAAAAAAAAAAAAAAAAAAAAAAAAAAAAAAAAAAAAAAAAAAAAAAAAAAAAAAAAAAAAAAAAAAAAAAAAAAAAAAAAAAAAAAAAAAAAAAAAAAAAAAAAAAAAAAAAAAAAAAAAAAAAAAAAAAAAAAAAAAAAAAAAAAAAAAAAAAAAAAAAAAAAAAAAAAAAAAAAAAAAAAAAAAAAAAAAAAAAAAAAAAAAAAAAAAAAAAAAAAAAAAAAAAAAAAAAAAAAAAAAAAAAAAAAAAAAAAAAAAAAAAAAAAAAAAAAAAAAAAAAAAAAAAAAAAAAAAAAAAAAAAAAAAAAAAAAAAAAAAAAAAAAAAAAAAAAAAAAAAAAAAAAAAAAAAAAAAAAAAAAAAAAAAAAAAAAAAAAAAAAAAAAAAAAAAAAAAAAAAAAAAAAAAAAAAAAAAAAAAAAAAAAAAAAAAAAAAAAAAAAAAAAAAAAAAAAAAAAAAAAAAAAAAAAAAAAAAAAAAAAAAAAAAAAAAAAAAAAAAAAAAAAAAAAAAAAAAAAAAAAAAAAAAAAAAAAAAAAAAAAAAAAAAAAAAAAAAAAAAAAAAAAAAAAAAAAAAAAAAAAAAAAAAAAAAAAAAAAAAAAAAAAAAAAAAAAAAAAAAAAAAAAAAAAAAAAAAAAAAAAAAAAAAAAAAAAAAAAAAAAAAAAAAAAAAAAAAAAAAAAAAAAAAAAAAAAAAAAAAAAAAAAAAAAAAAAAAAAAAAAAAAAAAAAAAAAAAAAAAAAAAAAAAAAAAAAAAAAAAAAAAAAAAAAAAAAAAAAAAAAAAAAAAAAAAAAAAAAAAAAAAAAAAAAAAAAAAAAAAAAAAAAAAAAAAAAAAAAAAAAAAAAAAAAAAAAAAAAAAAAAAAAAAAAAAAAAAAAAAAAAAAAAAAAAAAAAAAAAAAAAAAAAAAAAAAAAAAAAAAAAAAAAAAAAAAAAAAAAAAAAAAAAAAAAAAAAAAAAAAAAAAAAAAAAAAAAAAAAAAAAAAAAAAAAAAAAAAAAAAAAAAAAAAAAAAAAAAAAAAAAAAAAAAAAAAAAAAAAAAAAAAAAAAAAAAAAAAAAAAAAAAAAAAAAAAAAAAAAAAAAAAAAAAAAAAAAAAAAAAAAAAAAAAAAAAAAAAAAAAAAAAAAAAAAAAAAAAAAAAAAAAAAAAAAAAAAAAAAAAAAAAAAAAAAAAAAAAAAAAAAAAAAAAAAAAAAAAAAAAAAAAAAAAAAAAAAAAAAAAAAAAAAAAAAAAAAAAAAAAAAAAAAAAAAAAAAAAAAAAAAAAAAAAAAAAAAAAAAAAAAAAAAAAAAAAAAAAAAAAAAAAAAAAAAAAAAAAAAAAAAAAAAAAAAAAAAAAAAAAAAAAAAAAAAAAAAAAAAAAAAAAAAAAAAAAAAAAAAAAAAAAAAAAAAAAAAAAAAAAAAAAAAAAAAAAAAAAAAAAAAAAAAAAAAAAAAAAAAAAAAAAAAAAAAAAAAAAAAAAAAAAAAAAAAAAAAAAAAAAAAAAAAAAAAAAAAAAAAAAAAAAAAAAAAAAAAAAAAAAAAAAAAAAAAAAAAAAAAAAAAAAAAAAAAAAAAAAAAAAAAAAAAAAAAAAAAAAAAAAAAAAAAAAAAAAAAAAAAAAAAAAAAAAAAAAAAAAAAAAAAAAAAAAAAAAAAAAAAAAAAAAAAAAAAAAAAAAAAAAAAAAAAAAAAAAAAAAAAAAAAAAAAAAAAAAAAAAAAAAAAAAAAAAAAAAAAAAAAAAAAAAAAAAAAAAAAAAAAAAAAAAAAAAAAAAAAAAAAAAAAAAAAAAAAAAAAAAAAAAAAAAAAAAAAAAAAAAAAAAAAAAAAAAAAAAAAAAAAAAAAAAAAAAAAAAAAAAAAAAAAAAAAAAAAAAAAAAAAAAAAAAAAAAAAAAAAAAAAAAAAAAAAAAAAAAAAAAAAAAAAAAAAAAAAAAAAAAAAAAAAAAAAAAAAAAAAAAAAAAAAAAAAAAAAAAAAAAAAAAAAAAAAAAAAAAAAAAAAAAAAAAAAAAAAAAAAAAAAAAAAAAAAAAAAAAAFJhdml0ZWphIFRhbmlrZWxsYQAAAAWQAwACAAAAFAAAEKyQBAACAAAAFAAAEMCSkQACAAAAAzI1AACSkgACAAAAAzI1AADqHAAHAAAIDAAACKAAAAAAHOoAAAAIAAAAAAAAAAAAAAAAAAAAAAAAAAAAAAAAAAAAAAAAAAAAAAAAAAAAAAAAAAAAAAAAAAAAAAAAAAAAAAAAAAAAAAAAAAAAAAAAAAAAAAAAAAAAAAAAAAAAAAAAAAAAAAAAAAAAAAAAAAAAAAAAAAAAAAAAAAAAAAAAAAAAAAAAAAAAAAAAAAAAAAAAAAAAAAAAAAAAAAAAAAAAAAAAAAAAAAAAAAAAAAAAAAAAAAAAAAAAAAAAAAAAAAAAAAAAAAAAAAAAAAAAAAAAAAAAAAAAAAAAAAAAAAAAAAAAAAAAAAAAAAAAAAAAAAAAAAAAAAAAAAAAAAAAAAAAAAAAAAAAAAAAAAAAAAAAAAAAAAAAAAAAAAAAAAAAAAAAAAAAAAAAAAAAAAAAAAAAAAAAAAAAAAAAAAAAAAAAAAAAAAAAAAAAAAAAAAAAAAAAAAAAAAAAAAAAAAAAAAAAAAAAAAAAAAAAAAAAAAAAAAAAAAAAAAAAAAAAAAAAAAAAAAAAAAAAAAAAAAAAAAAAAAAAAAAAAAAAAAAAAAAAAAAAAAAAAAAAAAAAAAAAAAAAAAAAAAAAAAAAAAAAAAAAAAAAAAAAAAAAAAAAAAAAAAAAAAAAAAAAAAAAAAAAAAAAAAAAAAAAAAAAAAAAAAAAAAAAAAAAAAAAAAAAAAAAAAAAAAAAAAAAAAAAAAAAAAAAAAAAAAAAAAAAAAAAAAAAAAAAAAAAAAAAAAAAAAAAAAAAAAAAAAAAAAAAAAAAAAAAAAAAAAAAAAAAAAAAAAAAAAAAAAAAAAAAAAAAAAAAAAAAAAAAAAAAAAAAAAAAAAAAAAAAAAAAAAAAAAAAAAAAAAAAAAAAAAAAAAAAAAAAAAAAAAAAAAAAAAAAAAAAAAAAAAAAAAAAAAAAAAAAAAAAAAAAAAAAAAAAAAAAAAAAAAAAAAAAAAAAAAAAAAAAAAAAAAAAAAAAAAAAAAAAAAAAAAAAAAAAAAAAAAAAAAAAAAAAAAAAAAAAAAAAAAAAAAAAAAAAAAAAAAAAAAAAAAAAAAAAAAAAAAAAAAAAAAAAAAAAAAAAAAAAAAAAAAAAAAAAAAAAAAAAAAAAAAAAAAAAAAAAAAAAAAAAAAAAAAAAAAAAAAAAAAAAAAAAAAAAAAAAAAAAAAAAAAAAAAAAAAAAAAAAAAAAAAAAAAAAAAAAAAAAAAAAAAAAAAAAAAAAAAAAAAAAAAAAAAAAAAAAAAAAAAAAAAAAAAAAAAAAAAAAAAAAAAAAAAAAAAAAAAAAAAAAAAAAAAAAAAAAAAAAAAAAAAAAAAAAAAAAAAAAAAAAAAAAAAAAAAAAAAAAAAAAAAAAAAAAAAAAAAAAAAAAAAAAAAAAAAAAAAAAAAAAAAAAAAAAAAAAAAAAAAAAAAAAAAAAAAAAAAAAAAAAAAAAAAAAAAAAAAAAAAAAAAAAAAAAAAAAAAAAAAAAAAAAAAAAAAAAAAAAAAAAAAAAAAAAAAAAAAAAAAAAAAAAAAAAAAAAAAAAAAAAAAAAAAAAAAAAAAAAAAAAAAAAAAAAAAAAAAAAAAAAAAAAAAAAAAAAAAAAAAAAAAAAAAAAAAAAAAAAAAAAAAAAAAAAAAAAAAAAAAAAAAAAAAAAAAAAAAAAAAAAAAAAAAAAAAAAAAAAAAAAAAAAAAAAAAAAAAAAAAAAAAAAAAAAAAAAAAAAAAAAAAAAAAAAAAAAAAAAAAAAAAAAAAAAAAAAAAAAAAAAAAAAAAAAAAAAAAAAAAAAAAAAAAAAAAAAAAAAAAAAAAAAAAAAAAAAAAAAAAAAAAAAAAAAAAAAAAAAAAAAAAAAAAAAAAAAAAAAAAAAAAAAAAAAAAAAAAAAAAAAAAAAAAAAAAAAAAAAAAAAAAAAAAAAAAAAAAAAAAAAAAAAAAAAAAAAAAAAAAAAAAAAAAAAAAAAAAAAAAAAAAAAAAAAAAAAAAAAAAAAAAAAAAAAAAAAAAAAAAAAAAAAAAAAAAAAAAAAAAAAAAAAAAAAAAAAAAAAAAAAAAAAAAAAAAAAAAAAAAAAAAAAAAAAAAAAAAAAAAAAAAAAAAAAAAAAAAAAAAAAAAAAAAAAAAAAAAAAAAAAAAAAAAAAAAAAAAAAAAAAAAAAAAAAAAAAAAAAAAAAAAAAAAAAAAAAAAAAAAAAAAAAAAAAAAAAAAAAAAAAAAAAAAAAAAAAAAAAAAAAAAAAAAAAAAAAAAAAAAAAAAAAAAAAAAAAAAAAAAAAAAAAAAAAAAAAAAAAAAAAAAAAAAAAAAAAAAAAAAAAAAAAAAAAAAAAAAAAAAAAAAAAAAAAAAAAAAAAAAAAAAAAAAAAAAAAAAAAAAAAAAAAAAAAAAAAAAAAAAAAAAAAAAAAAAAAAAAAAAAAAAAAAAAAAAAAAAAAAAAAAAAAAAAAAAAAAAAAAAAAAAAAAAAAAAAAAAAAAAAAAAAAAAAAAAAAAAAAAAAAAAAAAAAAAAAAAAAAAAAAAAAAAAAAAAAAAAAAAAAAAAAAAAAAAAAAAAAAAAAAAAAAAAAAAAAAAAAAAAAAAAAAAAAAAAAAAAAAAAAAAAAAAAAAAAAAAAAAAAAAAAAAAAAAAAAAAAAAAAAAAAAAAAAAAAAAAAAAAAAAAAAAAAAAAAAAAAAAAAAAAAAAAAAAAAAAAAAAAAAAAAAAAAAAAAAAAAAAAAAAAAAAAAAAAAAAAAAAAAAAAAAAAAAAAAAAAAAAAAAAAAAAAAAAAAAAAAAAAAAAAAAAAAAyMDIyOjEwOjI4IDE3OjA3OjI4ADIwMjI6MTA6MjggMTc6MDc6MjgAAABSAGEAdgBpAHQAZQBqAGEAIABUAGEAbgBpAGsAZQBsAGwAYQAAAP/hCyVodHRwOi8vbnMuYWRvYmUuY29tL3hhcC8xLjAvADw/eHBhY2tldCBiZWdpbj0n77u/JyBpZD0nVzVNME1wQ2VoaUh6cmVTek5UY3prYzlkJz8+DQo8eDp4bXBtZXRhIHhtbG5zOng9ImFkb2JlOm5zOm1ldGEvIj48cmRmOlJERiB4bWxuczpyZGY9Imh0dHA6Ly93d3cudzMub3JnLzE5OTkvMDIvMjItcmRmLXN5bnRheC1ucyMiPjxyZGY6RGVzY3JpcHRpb24gcmRmOmFib3V0PSJ1dWlkOmZhZjViZGQ1LWJhM2QtMTFkYS1hZDMxLWQzM2Q3NTE4MmYxYiIgeG1sbnM6ZGM9Imh0dHA6Ly9wdXJsLm9yZy9kYy9lbGVtZW50cy8xLjEvIi8+PHJkZjpEZXNjcmlwdGlvbiByZGY6YWJvdXQ9InV1aWQ6ZmFmNWJkZDUtYmEzZC0xMWRhLWFkMzEtZDMzZDc1MTgyZjFiIiB4bWxuczp4bXA9Imh0dHA6Ly9ucy5hZG9iZS5jb20veGFwLzEuMC8iPjx4bXA6Q3JlYXRlRGF0ZT4yMDIyLTEwLTI4VDE3OjA3OjI4LjI0ODwveG1wOkNyZWF0ZURhdGU+PC9yZGY6RGVzY3JpcHRpb24+PHJkZjpEZXNjcmlwdGlvbiByZGY6YWJvdXQ9InV1aWQ6ZmFmNWJkZDUtYmEzZC0xMWRhLWFkMzEtZDMzZDc1MTgyZjFiIiB4bWxuczpkYz0iaHR0cDovL3B1cmwub3JnL2RjL2VsZW1lbnRzLzEuMS8iPjxkYzpjcmVhdG9yPjxyZGY6U2VxIHhtbG5zOnJkZj0iaHR0cDovL3d3dy53My5vcmcvMTk5OS8wMi8yMi1yZGYtc3ludGF4LW5zIyI+PHJkZjpsaT5SYXZpdGVqYSBUYW5pa2VsbGE8L3JkZjpsaT48L3JkZjpTZXE+DQoJCQk8L2RjOmNyZWF0b3I+PC9yZGY6RGVzY3JpcHRpb24+PC9yZGY6UkRGPjwveDp4bXBtZXRhPg0KICAgICAgICAgICAgICAgICAgICAgICAgICAgICAgICAgICAgICAgICAgICAgICAgICAgICAgICAgICAgICAgICAgICAgICAgICAgICAgICAgICAgICAgICAgICAgICAgICAgIAogICAgICAgICAgICAgICAgICAgICAgICAgICAgICAgICAgICAgICAgICAgICAgICAgICAgICAgICAgICAgICAgICAgICAgICAgICAgICAgICAgICAgICAgICAgICAgICAgICAgCiAgICAgICAgICAgICAgICAgICAgICAgICAgICAgICAgICAgICAgICAgICAgICAgICAgICAgICAgICAgICAgICAgICAgICAgICAgICAgICAgICAgICAgICAgICAgICAgICAgICAKICAgICAgICAgICAgICAgICAgICAgICAgICAgICAgICAgICAgICAgICAgICAgICAgICAgICAgICAgICAgICAgICAgICAgICAgICAgICAgICAgICAgICAgICAgICAgICAgICAgIAogICAgICAgICAgICAgICAgICAgICAgICAgICAgICAgICAgICAgICAgICAgICAgICAgICAgICAgICAgICAgICAgICAgICAgICAgICAgICAgICAgICAgICAgICAgICAgICAgICAgCiAgICAgICAgICAgICAgICAgICAgICAgICAgICAgICAgICAgICAgICAgICAgICAgICAgICAgICAgICAgICAgICAgICAgICAgICAgICAgICAgICAgICAgICAgICAgICAgICAgICAKICAgICAgICAgICAgICAgICAgICAgICAgICAgICAgICAgICAgICAgICAgICAgICAgICAgICAgICAgICAgICAgICAgICAgICAgICAgICAgICAgICAgICAgICAgICAgICAgICAgIAogICAgICAgICAgICAgICAgICAgICAgICAgICAgICAgICAgICAgICAgICAgICAgICAgICAgICAgICAgICAgICAgICAgICAgICAgICAgICAgICAgICAgICAgICAgICAgICAgICAgCiAgICAgICAgICAgICAgICAgICAgICAgICAgICAgICAgICAgICAgICAgICAgICAgICAgICAgICAgICAgICAgICAgICAgICAgICAgICAgICAgICAgICAgICAgICAgICAgICAgICAKICAgICAgICAgICAgICAgICAgICAgICAgICAgICAgICAgICAgICAgICAgICAgICAgICAgICAgICAgICAgICAgICAgICAgICAgICAgICAgICAgICAgICAgICAgICAgICAgICAgIAogICAgICAgICAgICAgICAgICAgICAgICAgICAgICAgICAgICAgICAgICAgICAgICAgICAgICAgICAgICAgICAgICAgICAgICAgICAgICAgICAgICAgICAgICAgICAgICAgICAgCiAgICAgICAgICAgICAgICAgICAgICAgICAgICAgICAgICAgICAgICAgICAgICAgICAgICAgICAgICAgICAgICAgICAgICAgICAgICAgICAgICAgICAgICAgICAgICAgICAgICAKICAgICAgICAgICAgICAgICAgICAgICAgICAgICAgICAgICAgICAgICAgICAgICAgICAgICAgICAgICAgICAgICAgICAgICAgICAgICAgICAgICAgICAgICAgICAgICAgICAgIAogICAgICAgICAgICAgICAgICAgICAgICAgICAgICAgICAgICAgICAgICAgICAgICAgICAgICAgICAgICAgICAgICAgICAgICAgICAgICAgICAgICAgICAgICAgICAgICAgICAgCiAgICAgICAgICAgICAgICAgICAgICAgICAgICAgICAgICAgICAgICAgICAgICAgICAgICAgICAgICAgICAgICAgICAgICAgICAgICAgICAgICAgICAgICAgICAgICAgICAgICAKICAgICAgICAgICAgICAgICAgICAgICAgICAgICAgICAgICAgICAgICAgICAgICAgICAgICAgICAgICAgICAgICAgICAgICAgICAgICAgICAgICAgICAgICAgICAgICAgICAgIAogICAgICAgICAgICAgICAgICAgICAgICAgICAgICAgICAgICAgICAgICAgICAgICAgICAgICAgICAgICAgICAgICAgICAgICAgICAgICAgICAgICAgICAgICAgICAgICAgICAgCiAgICAgICAgICAgICAgICAgICAgICAgICAgICAgICAgICAgICAgICAgICAgICAgICAgICAgICAgICAgICAgICAgICAgICAgICAgICAgICAgICAgICAgICAgICAgICAgICAgICAKICAgICAgICAgICAgICAgICAgICAgICAgICAgICAgICAgICAgICAgICAgICAgICAgICAgICAgICAgICAgICAgICAgICAgICAgICAgICAgICAgICAgICAgICAgICAgICAgICAgIAogICAgICAgICAgICAgICAgICAgICAgICAgICAgICAgICAgICAgICAgICAgICAgICAgICAgICAgICAgICAgICAgICAgICAgICAgICAgICAgICAgICAgICAgICAgICAgICAgICAgCiAgICAgICAgICAgICAgICAgICAgICAgICAgICA8P3hwYWNrZXQgZW5kPSd3Jz8+/9sAQwAHBQUGBQQHBgUGCAcHCAoRCwoJCQoVDxAMERgVGhkYFRgXGx4nIRsdJR0XGCIuIiUoKSssKxogLzMvKjInKisq/9sAQwEHCAgKCQoUCwsUKhwYHCoqKioqKioqKioqKioqKioqKioqKioqKioqKioqKioqKioqKioqKioqKioqKioqKioq/8AAEQgAuAJ6AwEiAAIRAQMRAf/EAB8AAAEFAQEBAQEBAAAAAAAAAAABAgMEBQYHCAkKC//EALUQAAIBAwMCBAMFBQQEAAABfQECAwAEEQUSITFBBhNRYQcicRQygZGhCCNCscEVUtHwJDNicoIJChYXGBkaJSYnKCkqNDU2Nzg5OkNERUZHSElKU1RVVldYWVpjZGVmZ2hpanN0dXZ3eHl6g4SFhoeIiYqSk5SVlpeYmZqio6Slpqeoqaqys7S1tre4ubrCw8TFxsfIycrS09TV1tfY2drh4uPk5ebn6Onq8fLz9PX29/j5+v/EAB8BAAMBAQEBAQEBAQEAAAAAAAABAgMEBQYHCAkKC//EALURAAIBAgQEAwQHBQQEAAECdwABAgMRBAUhMQYSQVEHYXETIjKBCBRCkaGxwQkjM1LwFWJy0QoWJDThJfEXGBkaJicoKSo1Njc4OTpDREVGR0hJSlNUVVZXWFlaY2RlZmdoaWpzdHV2d3h5eoKDhIWGh4iJipKTlJWWl5iZmqKjpKWmp6ipqrKztLW2t7i5usLDxMXGx8jJytLT1NXW19jZ2uLj5OXm5+jp6vLz9PX29/j5+v/aAAwDAQACEQMRAD8A+kaKKKACiiigAooooAKKKKACiiigAooooAKKKKACiiigAooooAKKKKACiiigAooooAKKKKACiiigAooooAKKKKACiiigAooooAKKKKACiiigAooooAKKKKACiiigAooooAKKKKACiiigAooooAKKKKACiiigAooooAKKKKACiiigAooooAKKKKACiiigAooooAKKKKACiiigAooooAKKKKACiiigAooooAKKKKACiiigAooooAKKKKACiiigAooooAKKKKAM/W9atPD+lS6hqDMIY8DCLlmJOAAPUk1ejfzIlcqVLAHaeo9q8/uZP+Eu+Ky6ef3umeHkE1whOFe5b/Vg+u0ZPpnFehAYFABRRRQAUUUUAFFFGaACijNGaACgnAozXOeLb6cLY6TYytFdanOIg4/gQDc59vlBoA6MHNFRW0EdrbRwwrtjjUKo64FS0AGaKxPFVrLLo73Vk2y8s/30Dg45HJHuCMjBq9o+oxavo9rf2+fLuIlkXPbI6UAXaKKKACiiigAooooAKKKKACiiigAoormfF2v3Gmyadpmlsq6jqk/kwu65VAOWYj2FAHTUVyEGs3+j+M7XRNWu/tUWows1rJsCsrryynHXI6V19ABRRRQAUUUUAFFFFABRRRQAUUUUAFFZHijXYvDnh271OfpCmQAM5Y8AfnXM3+oeJdC8Lp4gvr+K4EW2W5tkhCr5RxkL/tDPWgDvaKhs7mO8s4bmE5jmQOp9iMipqACiiigAorO11NTl0W5TQZoYb8p+5edcorepFP0aPUItHtk1qeKe+CfvpIV2ozewoAvUUZrntUh8TN4v0yTTLm2TRVVvtsTrl3PbBoA6GiijNAATjrRXL3N0dY8bJpSsTbafGJ7lc8M5+4PfHWun6CgBaTPalrmfGEsmkwwa7bFh9jcC4Cn78JOGGOhx1oA6aimQyrNCkkZyrqGU+oNPoAzbPXbW81m80tRIlzabS6uvDKehB9K0q4H4i+Z4eubDxhZ5T7DII77b1kt26gjvg812mmajb6rpsF9ZvvgnQOjeoNAFqiiigAooooAKKKKACiiigAooooAKKKKACiiigAooooAKKKKACqOtalFpGi3eoXLbYraFpXPoAM1erzf456nLZ/DmaytmxNqc8dmo7kO3zY/CgC18H7KYeDW1q/T/AE3W7h76Vj1KsfkB/wCA9q76qOi2CaZodlZRLtS3gSNR6YUCr1ABRRRQAUUUUAc9468RHwr4L1LVoxmW3iJjGM/OeF/U1gTaF4h/4Qi2vNHvpp/EUqRStLcXjiPJwWwudoGCeMV0XjXw4vivwfqGkMxVrmIhGHZhyD+YrM0fV9aTwzb2Nxo9zFq0MKwtmLMO4DG7f0I4zQBTsdVuPE/xC1LR555UstHtovMjhkMfmTv1yVOSAB0rKk8SazoXjzU/DUU8l3DNYvcaYsvzukirkqWPJHPGa1bfRrzwv8Qb7WYrWa8stXto1uWgTc0cydDtHOCPyrHn8O6/qXi7V/FptJLd4LJ4dJhOBIzEY3EdunAoATQ/FmjeIP7MsrHWbyy1+OaJrq0vpJYXlII8xcN8rd+BW/eSG4+MGmQPkrb6fPKoP94lVz+RrL1Lw+viOHSJ20B7LX4Z4JZrsQ7DEVILnf8AxZAIxWvqsJs/ijod8RhLmCe0LHpkgMB/47QBueItKn1PTJUtr25tZVjbyzBKU+fHykkehrlPAnj1tX8Hhb52m1uzf7HPFt+aSYZHT3xnNd3eXcNlZvcXDhI0GSTXkPgXTJND+M2qR6lbCD+14mvrSMsfkOcNx64PNAHq9pbTpo/l6hL507oTKc5GT2HsOlc78L3c+CYo3ORDc3ES+yrKwA/Kupvp1ttPnmkICxxsxJ9hXN/DazktfA1m0ylXuGkuSD/00csP0IoA6yiiigAooooAKKKKACiiigAooooAK858YMx+MPgpD9zNwfx2V6NXHeNdFuZtV0PXtPt3uZ9KudzxJyWiYYbA7kdaAMbx2xX4oeBCpwTdSg47jbXpQ6CuGn0yTxL8RdK1Q200dhpETukkkZTfK3AADcnAruaACiiigAooooAKKKKACiiigAooooA88+NrMvw7k2kgG7gDY9N4rU8dgf8ACqdW9P7Pb/0EVe8c+Hv+Em8IXmnKCZWUPFj++pyP1Fc9rs+peIPAZ0O3026j1G6jS3mSSEqsa8Bm3HjGM96AOi8CO7+AtEMmSxso85/3a3pZFhiaR87VBJwCf0FVtLsU0zSrWyh/1dvEsa/QDFW6AOYPxC0AEgyX3H/UNuP/AIinwePdCuJ0hikvC7sFXOnzgZ+pTAro9o9/zo2j3/OgDgfH+o6lYtbmzuJoJ7i6hgsUjkxvJOXJA6jHrXbStOumyNGA04jO33bHH61xvi/TNRu/G2i3kdpLcWlnHK8ewZCzkYUt6CunSLUIfDbJLK09+IWO8ADL444HFAHmum+MNL1W0i0u71e90zxSJgJY7ySWDewblVJ+QgjoBW/4olu7L4jeFzbX92kV5K8c8AnbynAXI+XpWdqGiP4o8M2iav4ckj8RKUP2ryADGwb7/mD2q54st9Ufxt4ZmtNJvbuDT5Wa4njQEAFcZ680AV7hNQ/4XR/ZkOqX40+408zzQm5YhTux8n938K0dFvrqw+Kuo6AtzPNYfYI7mOOeQyeW5ODgnnB9Kpsmq/8AC4l1T+xL42C2BtftHljbuzn16e9FjHqh+M1zqsmi30enzWC2y3DRjbuBzzznHvQBpeCj5/inxXcvzJ9vWIE9lVOBU/xBsdUPhu81HQ7+6gvrSLzYEik2qdvJBX+LI9ah8KKbHxx4nsXG3zpo7uPPdWXBP5iuj1y7jttLlV0815lMUcQ6yMRjAoAw9L8SyeI/D2mtpUn+l3kCSSuBxCv8RPoc5AFaXii1WTwbqUDlpB9kfJc5JwM81x3wZjFlpeq6XcxLHfWF68Uq7iSqnlRn05rrvG12LPwXqcuRuNuyKD3LcAfrQA7wXcPdeC9JmkJZmtUyT9K3KyvDFkdO8L6daMCGhtkUg+uK1aAKOt6XDrOiXenXKK8dxEY2DdOa4L4PXk1ja6t4UvnJn0S6MUYb/nkeV+or0uvKTJ/YH7RmwHZBrthkjs0if1oA9WooooAKKKKACiiigAooooAKKKKACiiigAooooAKKKKACiiigAryD4sy/wBp/EDwRonG19TErgdcAV6/XhWt3Dah+1XotmfuWcXmj6+WaAPdF6UtIPuiloAKKKKACiiigAoxRRQAUYFFFABisrxDo/8Aa+nqsUhiubeRZ7eQDO2RTkZHcdjWrRQBlf2fLqT2VxqH7vyP3htxyPM9c9wOwrN8S+EpdX1rSdZ068W0v9LkZo/MjLpIrDDKwBB/EGunooAwtW07UNQ0uHS2lUi4+W6uFXbhOpCj1PStqGFLeBIYhhI1CqPQAYqnf63p+myLHeXMccjDIQn5seuPT3q1bXUF5brPaTJNE4yrxsGB/EUAS0UUUAFFFFABRRRQAUUUUAFFNkdYo2dyFVRkk9hWXoWsvrcc1wtq0Fsr7YXdsmUD+Ie3pQBrUUVHcPJHbSPCgeRVJVScZPpQBJRVDR9Vi1jTY7qJdhOVeMnJjYcFT7ir9ABRRRQAUVVvNTstPkgS9uoYHuJBHEsjhS7egz1NWqACignFZmneIdK1W/urLT7+3uLi0OJ44pAzRn3HagDTooooAKKzBrAl8QHTLePzDFH5k8gPEefur9TWnQAUUVlWertJrVxpl5CIZkUSRMGysqeoz3HegDVooooAKKKKADA9KKKKACjA9KKKADA9KMUUUAYup6ZMusWur2C7p4h5Usf/AD0jJ/mOtWzpnm6sL64lLmNdsMYGAmep9yav0UAckPCF1Y+NbzXdH1BIF1CNUuoJYN/K9GUgjB+ua0dX0qbWb60t7gbbGBxPIe8rj7q+w7mtysy78Q6XY3JgubyFJFwXBb7g/wBr0/GgDTHAopqSJKgeNgysMhgcginUAFeQfFhjpvxI8D6qva7MDfRq9fryH4/jydN8OXg6warH+tAHrqnKjFLUNq/mWkT/AN5Af0qagAooooAKKz317SY5zDJqdosgbaUMy5B9MZ61Ld6rp9iyre3tvAzDIEsgUn86ALdFRwXEN1As1tKksTcq8bBgfxFUm8Q6OshRtUswwO0gzrkH060AaNFVLrVdPsWVby9t4GcZUSShcj15qxDPFcQrLBIskbjKuhyCPY0APoqta38F5NcR277zbv5chA4DYzjPcjvVmgAoqO4nW2tpJnDFY1LEKuTgeg70lrdQ3trFc2siywyqGR16MDQBLRRRQAUUUUAB6V4BZnzv2xJ88+XZnH/fr/69e/noa+f9HBP7Ymo5PS1Y/wDkIUAfQA6UUUUAFFFFABRRRQAUUUUAFFFFABRRRQAUE4FFIeVNAHn3gS8bWPG3jO7n5NveR2kW7nairnA9iT0rK+GuozQ/E/xpoQY/ZredZoUB+VN3UAdutaHw5tpNO8YeOLW4Gx31FJ1B7qycGsj4bW8k/wAY/HGpqv8AoxkSFX7Mw64/KgD16iiigAoopHzsOOuKAOeufFsY1i603TrOa9mskD3LI6okeegyx5PsKf8A8JlpX/CMLrgeQ2zYCqFy5bONoHrniuV+FceR4qtdSUNd/wBsS+erjJZSBtz7Yqn41trKyvfCEejRQwaRa6yqXEcCbY0bnGR9aAO3i8TiPU7Wx1SwnsZLwH7OXZXViBnaSp4OO1MXxWl3cXkel2U12ti5Sdw6oNwGdqhjya5v4t+bJpuiRWWTePq0HkhPvcNzj8M1z03hbW7rVNS1n4YeKBY5uH+2afcoXjeUdeDkDNAHWeLfEX9ofD+OeySWBtUljtkD8Mu99pzj8a63MOkaQNqMYreMKFReSAMYArzfVdQfVPA/hq+ubVbVo9WgW4iUDariTaxGOxPNeqL92gDB8PeLbTxBfahYxwz215p7hZ4ZwMjIyCCOCK1RfwvqLWKbmmWPzGwOFHQZNebeJmn0P4yadNppRJNds3tG+YAeYvKs2euBmvRdL0yDS7Xy4Rl3+aWQ8tI3ckmgDndFk/s/4ja3py8R3UMd6ijoG+63HvxXYVxSDf8AGRyg4j0nDke7jFdPrFnd32myQadfNYTtjbcKgYr+BoAu5HqKMj1riT4R8Wf9D3d/+AcdXtF8O+ILDUVm1PxVPqVuAQ0D26oD+IoAfN4g0m68T2emXVn5kryP9lnkjVl8xBlsdwcd629T1KDSdOlvLnd5cY6KMknsBXAWgtZPixcXAXbZaHbi2iUAn9/McnHviuq8bwWN14TurbU5Whgm2xiVCcxsThW49DigBf8AhJZI9Qs7O70y4ja93eUyyI68DODg8Gsjwvr+kXniPWbWw8PTadqNuokuS0cStPknHKnn8TXPaDaeNPCfifTLPxRq0HiLSrqQxW05jAmt3xwSSMkYrR8Nf8lf8Rkf8+cP/oRoA1dL+IUOsSX1vZ6Rf/bLGRkmt3MasuByc7sfrWp4c8W6d4o0WTUtM8wRRu0ciyptZGXqDXMeAo1HiPxtJtG46gAT7bKxfgyC/hTxMi9TqdyB+tAHY/D5jdaFcapKMyX13LKWPJ2htqjP0FTzeOLK21yy0+5trqJb+Vobe4ZBsZx1GM5H1IqH4Ykf8K+05R1QOrfUOc1nfGGzMngSXUISFuNMlS7ifOCCp5wfpQB2d1qENpLBFJuaS4fYiqM8+v0rmPHM/wDZV5oesJx5F8kD44yknykVe8Kb9UsYtdvMNLeRK0K5z5MZHQdsk8k1l/FT5vC9tGOXfUbcIPfeKAO3HSikX7tLQAUUUUAFFFFABRRRQAUUUUAFFFFAFHWro2Wh3tyucxQO4wfRTXn/AMHnOsfDKbUL797PqEszSu/zFuwBPfiu98QW7Xfh2/gjGWkt5FA9SVNcB8EwbP4Ti2uB5ctrLMkqN1Ugk80Aa/wkv5L3wKiyksbW6mtwSc8KxxXc1wPwct5YfApklXaLi+uJk91L8Gu+oAK8k/aIH/FC2MndNRhI/OvW68l/aKBPw8gI7X8P86APTtIbdo1m3rAh/wDHRVyqGh5Gg2Gf+feP/wBBFX6ACiig8UAeO/FXSrLw54x8M+LmtYlsEvRBqIx8rK/3XYdMg966m60Kz8eava315bRy6PbcxMcq1y46MCOTHz0PXr0qD4kadJ420G+8N6eqyKkTSXEoUHZIo3RopPG4nr3A+tXPhPrw1/4caXNJtW5t4/s1xGoxskjO0jHboKAOutbSCytUtrSFIYYxhY0GAPwrxT4r+HIfDfjXQ/GMNqg0mG4jj1GFSdp3PjeV6d+te41wXjyzuPG2lX/hzT4Ve0MbC6uv7kgG5UXPBbOMntQBPJoumeO9YtdSurZLjSrFSLZjkC4c9W4+9GO2eCee1bfiLUIfDHhC8urdFiS1gPlIi8BuigD6kVz/AMHNbOs/DXT0nCrd2ANlcxqu3Y8ZxyPpip/isWHgOYDo1zbK30MyZoA2/D9muieGbdbyQLIsIlupnP3pCNzsT9c1d07V7DVomk028hukVirGJw20jqD6GppraG6tnguI1kicFWQjgj0ryS6lk8A/HETrvg0PXLcqY0BKG5AJ+VR/EdooA9daSIyeQzrvZS2wnkjucelcT4V1aTTvHer+EZgfKhUXlkewjc8oPoc/nXSaNZTlTqOpri+nX5l6+SmeEH9fU1x90iJ8fdOeM4eTTZVkA9AMigD0ak3D1FKenPFcFcXXhoXMok8cXsT7zuQapt2nPTGKAO83L6ilznpXnv2rwv8A9D5ff+DX/wCtXa6Q1u+k27Wd217CV+Sd5N5kHru70AXT0rwLRv8Ak8PUv+vRv/RQr309DXgOi/8AJ4Wpf9ejf+ihQB79RRRQAUUUUAFFFFABRRRQAUUUUAFFFFABRRRQBj3fhy2uNUfUbeWezu5I/Lllt5NvmKOgYEEHHY9RU+j6FYaHbGHToFiDsWkcnLSMeSWY8k1o0UAFFFFABRRRQBizeFdPfVJdQtzcWdzOAJntZzH5uOm4Dgn361Pc+HdMu9J/s64tVe2znaxOd3Xdu65zznrWnRQBiQ+FbBL2G7uGubya3/1Bup2kEXuAeM+/WoLTwTpenyXL6c13aG7kMk/k3LASMfUf4V0VFAHM+JfDEN34Km0vTYhG0IEluoPR1O4HPrmrth4htbnw+NQLklFCyooyyyY5THrntWzVG103TrWaf7LBEjTMJJVU8Fv72Ox96APO/H+i340O18UGN31TTb1LvCctFCDygH06132k+ItL1q283TL2G5URiRjE4YICM8kdD7VpSRJLG0cqK6MMFWGQR9KpxaTptlZyw21nb2kMg/eCCNYgfrtxQBh+GLdr/X9X191PlXLLBak9WjTOT9CxP5V1VRW0ENtbxw2yKkSKAir0AqWgAooooAyIvDGmw6zPqUcbia4cSyL5h2M4GA23pnFWdY0az13TnsdRjaSByCyq5Xocjkc1eooAyIvDdolxFNLLdXDQ58nz52cRcYyPfHfrVOw8DaRpusTanbG9F3OuyWRr2Rt49CCcV0dFAHN6f4F0jS5r2Wya+je+O64b7dKS7evJ4PvTvDngfRvCnn/2LHcRLcMXlR7l5FZj1bDE8+9dFRQByfhBf7El1HQ7gbDDcPcQZ6NC5zkfQ5Bp2oWq+MY54pELaUInQK4I86QjGceg966CW0tHvoriVF+0IpVGzg4PUe4qwkaRqFRQqjoAMUAcB8Ldcih8Px+HNRm8vVdNle2e3f75UElWx12471q+ILca74o0nTkAkispReXPouPuA+5NdEmm2MV614lnbrcuMNOIlDke7YzTLGzsoJZprNVMkrZlcPuJI7E57elAF0UUUUAFFFFABRRRQAUUUUAFFFFABRRRQAEBgQRkHqKwJPCFj5l0bSW5so7w5uIraXYkh9cY4P0xW/RQBXsLC20yxis7GJYYIV2oijgCrFFFABXk37RH/JO4P+v+H+des15N+0T/AMk6h/6/4f50Ael6L/yAbH/r3j/9BFXqo6J/yAbD/r3j/wDQRV6gArN1m21e5timi39tZSEEGSe2M2PcDcK0qKAMTw3ol3onh1bG5vIbu7DO73IgKCR2OdxXcecnsfyrmvBnw/1nwhq19PFr1rPaX901zNbfYCu1mOTtbecfjmvQKKAMrXrPWb2zMWh6lb6dIwIaWa184j0IG4DP1zTfD2jz6L4bttOkuI5p4UKmZYigdiSSxXJ5JOTzWvRQBwvg3wLq3hPXNWvBrNrcW2rXRup7ZbIpsc9drbzj8c1s+OtKfWfBWpWkQJlMXmRhRkl0O5R+YroaCMjFAGbpGqw3/h611Muqxy26ysxPC8fNk+xyPwrzn4lLf3PhuDxajOkWkX0V3bW2wfNGrYaRj15Uk47CvQIPDltDbXNoXZ7SefzhD02EnJGe4J5xWhe2FvqFhNZ3cYkgnQxyIT1UjBFAC2t1FeWsdxC4aOVBIrA5ypGQa4TQ9Pn1X4vavrzgmys7dbG2cDhn/wCWnPtnFdJonhS18O6W1npVxcL+6EMT3D+aY1GdoHTgZNaWlaZDpGmxWdtuKRg/MxyWJOST7knNAFyoDZW5JJiQk/7IqeigCuLG2/54p/3yKnRFjUKgAA6AUtFACH7prwLRf+TwtS/69G/9FCvfT0NeBaL/AMnh6ln/AJ9G/wDRQoA9+ooooAKKKKACiiigAooooAKKKKACiiigAoopG+6aAOTg1u91/wAVarpumXSWltpQRJJVjEjPKwzjngAD+dJ4M8YPr97qulXyRrqGkzeTOyHAkGeGC9sjFYPwtZm8S+Oi/X+18f8AjtZPw8Yj48eOUH3cRk/pQB7FRWRq/ijSNCmSLVLsQO4yoMbtkf8AAQazv+FjeF/+gmP+/Ev/AMTQB1B6VmRRax/b7yTXNqdM8nCQrCRLvz1LZxjHaqv9uRa5o8kvh+fzfnEbSBSNgPU4YDoK5X4Ward6nqfiUeZI+m2195NqZG3E46nd3FAHo+araiLttOuBpzpHdGNvKaRdyhscZHeuD+IviO20XXtKi8RpOnh+dH864iLKqSjG3ew5AxnpS6Pp9lqOm63Po3iE3umXUINu1rch2gwDxu5/XmgDsvD66rHoVqviCWGbUAn794I9ilvYVpZryS3ku9Q/Z9W+kv7pLq3tpJlmjkwzMpOM8cjiptTS/g+E8Pih9RuP7Tt7KO4iIICLwOCvfPvQB6D4j1hdC8P3eoNgmKPKKT95ugH51D4a0kabYmaYs95eYmuXbu5HT2A6YrmPG129/wCFPD4lAH2+9tPMA9yGIrup4Wns5IkkaIsCA6gZX6ZoAnzmormGO5t5IZhlJFKsPUGvPtC1S48M/EDU/DuoXbS6e1qL6zecjcgBw67u/rXXaNcX2os19dRtbQMMQ25HJH99j7+lAFHwnfSpcajod026TS5FWJj1eFhlCfpyM+1dNXFwMYPjDcIvS50sMw91fj+ddpQAUUUUAFFFcH4r1i4v/HWk+D7eVoIbyJ7i7kT75jX+FT/Dk96AO8zRnn/61ee38mo/D7Tdd1CLyn0e3tVezhkkd5BL3yzdvbNTWvh6S88Mx65dahdPrD2wuUnD7UiYru2iMfKV+oJoA7zNITxmvGLr4kQ6hpHh3UPFEMsOi3iSJdTW5ZUSdTgbmHIXqcV2PhmbS5Y9S1Dw5rUepacYAI1S483ymAJIz1H40AX9BmOva5e6tLzDaSta2gHTA++3uSeK6jNcl8M1z4Bspf4pmklY+5c1j+OZL7wjead4jt72aWM3iQXsbgbGic46fw49aAPRa5S5dPDfi+0MQCWmsOY5QeiygZVh9emK0Vv5dT1cW9jLttrbDTTKM72PRAf1NYXxRzF4esrpeHt9St3X/vsCgDt6KRfu0tABRRRQAUUUUAFFFFABRRRQAUUUUAR3Ey29vJM5wsaliT6AZritB8Ran4w0u91jS7uO1tYpHS0TyRJ5m3qWJ7E+mK6TxQxXwrqZXqLWTH/fJrhPgUM/B21J7vNn86AO18Ja+PE3hu21HaqO+VkRTkK6nBFbdee/Bj/kSrn0Gp3IH/fdehUAFeT/ALRP/JOYP+v+L+desV5P+0T/AMk5h/6/4f50AelaJ/yALD/r3j/9BFXqo6J/yALD/r3j/wDQRV6gAooooAKKKKACiiigAooooAKKKKACiiigAooooAKKKKAA9K8B0393+2Jef7do3/ooV79Xgt5G1l+13ZTEYW5tdoPr+7NAHvVFA5AooAKKKKACiiigAooooAKKKKACiiigAoPNFFAHA29ufBPi3W72W2nuLHWZEmRreMyNHKBgqVHODxz+dL4A8I3Wma5rniLUsRz61KJFtwcmJB0BPrjFd6RmigAooooAz9chuZ9DvY7DBuXgdYsnHzEcc1y/w+0u503RdPtPIktI7W323G/AM8x6njqBzzXcUUAcrq8+oWvilJHsHvNIa0ImVSGKvuGCEPXjNYGjeG5dK1XxBrem6Q0EGoW4SKyiZEaRv7xHAWvSaKAPLNP0rXbf4KTaA+iTf2gYZIBGJ48HcSQ27OMc1Y1W01u9+Dp0GLQrgX/2RLXY08WMhQC2d3Tj616XRQB5x4mhuh8OtLuri0ktZtKntpZInZWOEIDcqSK9EidXhV16MMj8ajvLSK+s5ra4QPFMhR1YZBBrD0/StYi0OXS57pYzGQkF0h3ExemOoIHFAHDePrqJvHvhvWWtw1hZX32KeRv4y/oO4Bx17160MBeK5/xN4Qttf8ITaHEVtgVBgk258pwchvrnmpNHtdes7EjVLmC6mjhVESEEB2A+8Sw4J9KAMvT4/tnxW1O6X7lnYx25/wB5mLfyFdlWT4f0g6VZSG4KveXMhmuZB/E5/oBgfhWtQAUUUUAFcR4p0C8i8aaT4s02P7S1jG8NxbA7WeNu6k8ZHoa7eigDkdZsbnxz4b1HTpLd7C0ubcxxtOBvL9jgHgCqdrqGtWnhdNDn0WQ6glsLaORJVML4XbvLdVHfGM13VGKAPNdB0HUfBUWnaa9qdS0yKyf7WUwf3rODkIevcetaWgeHol8Rapqtjpw0y0vLUQeTtVC7ZzvKrwP513FFAHJfDUmLwgtm4w9ncTQN+Dn+hqP4lxHVfCd5otvGstzdwOy7jwgUZ3GtW30i40/xFc3NkVFpfLulTOPLlH8eO+RwasaXpDWccz3swu7uYnzJ2XBK9l9gKAMn4bXkN98PdJmgQR5gCuv+0OD+oqt8RYmv7XSNLi+/dalD+CqdxP6U/wALeEtT8MX11Bb6jE+kSXLXEUAjIePd1T0xnmtSHS7i78SnU9QjVEt0MdrHu3EE/efjpkcYoA2x0paKKACiiigAooooAKKKKACiiigAooooAgvbYXljNbv92WNkP4jFec+F7a4+Heg3Phua0ubsmR2spYYyyyh+zEcJg+vFem0YoA5vwF4dl8MeEoLG5ZWnZ3ml29AznJA9a6SiigAryb9onn4fWy/3tQhH616zXkX7Qh8zw3otsOs2qxAD8aAPUNGG3Q7Ielun/oIq7UFinl6fAh/hjUfpU9ABRRRQAUUUUAFFFFABRRRQAUUUUAFFFFABRRRQAUUUUAFeL/EW2Gl/G3wVrBwqT3fkM3/Acf1r2ivKvjzatF4a0vXIlO/SdSinLD+FScE/yoA9UX7tLUNpOtzZxToQyyIHBHcEZqagAooooAKRmCqSxwB1NLWbrOsW2k2264SSZmBKxRAFmAGT1IGAPWgCXStY0/XLL7XpN1HdW+9o/MjORuU4I/A1drK8NS6TP4etbnQIY4bC4Xzo1jj8sfMck49c5qtH4qhup7pNNs7q+S0cxzSQhAoYdQNzAsfpQBb1bxFpWhy2ceq3kds97MIIA+fnc9q064fXvEvh6eDQL3WNFurmO6uk+xyyWwIgmJ2ru+b5T+daev8Ajay8Naha2+p2l8kVzMsKXSwgw7z0BOc/pQB0tUtW1SDR9Pe7uclVwFVeWdicBR7k8Vn23iu1l1yDSrm2urO5uY2ltxcRgCZV64IJwR1wcGszX5vt/jzQNJJ3RL5l5KnY7Bhc/wDAiDQB1ds8kttG88XlSMoLR7t20+malrM1nWk0SzM8lrdXKopdxbRhiqgZJOSP8ak0vWbHWNHg1SwnWS0njEiSdOPf0oAbq+rDR4orieFmtS4WaVW/1QPRiO4z19K0FYMoI5BrLu/s+v8Ah+5VQWhmjdAWXG7jqPbPQ1Q8AanLqngqwmuGLzRq0EhPdkYqf5UAdJRRRQAUUUUAFFFFABRRRQAUUUUAFVtQ1G00uza5v50ghXALOfXoKs1wHja6af4g+EdHc7rae4knljPR9i5XPrzQB1+n65YanPJBazZniAZ4nUq6g9Dg9q0K898T3b6T8VPCb2uEGoebbTgDG9cZGfoa9CFABRRRQAUUUUAFFFFABRRRQAUUUUANkkWKNpJGCqoySegFY0Pi/RJ3jEd6uyV/LjlKkI7egYjBNYnxa1WfSfh9dyWkhjkmeODcvUB2AP6Uzxpp1vbfCi8+zxLG1pZiWFlGCjKAQQfWgDuaKyfC9++qeFdMvZW3ST20bsfUlea1qACiiigAooqnq2rWeiabLf6lMIbeIZZj/IDufagC5RXO2/jK0e+sra9tLvT3v8/ZftKoPN4z0ViV49QKlk8UW8l/PaaZa3OpSW3+v+y7NsZ9CzMAT7DJoA3aKwU8YaVLpa3kMjyFpvs4gC4kEv8AcKnoalTxARqVtY3em3lrJc7vLd9jJwMnLKxwfagCxqOrLZXdraRRefdXLYSMNjCjqxPoK0QciuN0GZtV+IOu3Uh3x2Hl2kAPRcjc2K1fEXiuz8Mw+fqEF0bZcebcRQ7kiBOAWOf5ZoA3azb7WF0/UrW3uoisN0diT7uA/ZSO2exqeXVLSLT1vWmBgdQUZed2emPXNYvjeA3vgq8miVkngT7RCWGGR15BoA6WiqGh339paFZXuc+fCjkj1I5q/QAV5F8Z83vifwXpa8mXUhIV9QK9drynXo/7c/aF0O1Hzx6TZvcSD+6zdKAPVUGEAHaloHAooAKKKKACiiigAooooAKKKKACiiigAooooAKKKKACiiigArA8caGviPwTquluCftFsyrjruxkfqK36CMjBoA434U6yda+G+lyy8XFvH9lnXuskZ2kH8hXZV534ajPhT4naxobcWesZ1K0LcfvOkiD17GvRKAA1zs+ha9JcO8PiqeFGYlYxYwEKPTJGTXRUUAc0PD/AIhz/wAjfcf+AEH/AMTWX8THbT/BskkX73UbhVsIJCOS0pCk4HGe9dzWZrug2niGwW1vvMVUlWVHifayspyCDQBH4ctrTT9At9NsW3R2Ea2x4P3lAz9a8/i8L6mLzVNZ+H3ic25luJGuNOubdZ4mkBII7FeQe/evTrKxhsLJLaANsQYyxyx9ye59656P4faTby3ElnNe2rXTs8/kXJXzCxyc4/nQBxfiLUJdV+H/AITurm0S0nbWIFlhj+6rCQhse2QTW78UoklbwyrruB1y3yPxNamufDfQ/EEFjBe/bUisQPJS3vHiAIOQxC9T79aZrPwz0TXpbeTUZtTc2+wxhdRlUBlGA2M9ffrQBQ8R8fF3wfx1S6/9F1POjR/GbT3fhZNMmVfchkNWLz4Z6Jfaza6pPNqZurRQsLDUJRtwMdM9+/rUvi23+xalpGvoCV0+crNx0icbWJ+nBoA6eeJZ7d435VlIP4ivFfhhLetrniHwO8gFhYXbMJARuMRJ+QfXPWvV9WvJnENhp+DPdDmQciJO7/4Vwmo2Nv4H+KWhalEPK0+/gexuJWwFV+qMzepI70AemlEgtSiAKiJgAdAAK5L4W/8AImBgMK15dMvuPOatbXdZii8Lz3dowmMqFIApz5jN8oA9ean8M6SND8N2Ong5MEIVjjq3Vj+ZNAGrRRRQAUUUUAFFFFABRRRQAUUUUAFeeeNIWi+KXgu+YERCaaAuegLJwK9DrO1vRLXXtONne7wu4OrxttZGByCD2NAHE+MoXvPir4KihG4wyzTvj+FQuMmvRxWLpfhqDTtSl1GW4mu7yRBH5sxHyqOwAGB7+tbVABRRRQAUUUUAFFFFABRRRQAUUUUAcF8ZbOS7+HVyYlLGCaKYgDPCuCTVnx5cx/8ACpNTkDKRJYbU56llAFdfc20V3ayW86h45FKsp7g1zMPgCwjjgtpLy8nsbeUSx2ssgZQw6ZOMkD0PFAGh4NtHsfBekW0oKvHZxqwPUHaK26QDaMCloAKKKKACvPPjGJv+EZsGUH7Mmp27XJxwE3dT7V6HVe+sbfUbKW0vIxJDKpV1I6igDM1XTtLuktb2eCCS7gVvsUrfeVmXjb9a4X4GC4j0HWYtSDLfLqUhmVxhhnpkV2uj+DrDRpo3hnvJxCCIUublpFiHsDRqng3T9U1Br0zXdrO6bJHtZzF5i+hx1+tAHmdlpsOta14ntZ7+bT45taT7Bdw4+SdV6jPB+ldDYL4t8OeL9JsfEmoweILC8dkiuzaiCWB8Z7HDZ+ldTceCNGudGtdMaKRbe1k82PZJtbf/AHiw5J96m0/wtaaffJdm4vLqWNSsZupzJsB9Ae/vQBi+BBs8Q+LEbhv7SBI9inFdF4l0uHWfDWoafccJcW7oT6cVjQW39i/ES4mbiDWIV+Y8BZU7fiK0dWd9VvP7Hg3CHaGupVz8q9kz6n+VAHJfCua58Q+FrCbUsbNLZreJAwO90ON5x7dBXZ+J2WPwrqZf7otZOv8AumuH8HXFv4Q8b+ItAvHW2tZZFvbQyfKGDcEL64PpXUeOHa70IaTbfNPqbrAoAyVUnLNj2FAE/gZGj8C6OsgwwtUzn6Vv1DZ262lnDbx/ciQIv0AxU1AEc8yQQPLKwVEGWY9AK81+Gytr3jTxR4qf5o5rgWlq46GNO49ea2Pilqc0Hhb+ydP+a/1eQWkKjkgN95sewrY8F+HY/CvhKw0iJt32eLDORyzdzQBvUUUUAFFFFABRRRQAUUUUAFFFFABRRRQAUUUUAFFFFABRRRQAUUUUAc74u8NvrtrbTWMiwalYTrcWkrdAw6g45wRkHFdBEXMSmQBXwNwByAadRQAUUUUAFFFFABRRRQAUUUUAFNkjWWNkkUMrDBBGcinUUARW9tFbQJDCgVEXaoHYelLLBFOhSaNZFPVXUEfkakooAryWNvLJDJJEpaA5j4+6cYyKsDgcUUUAFFFFABRRRQAUUUUAFFFFABRRRQAUUUUAFFFFABRRRQAUUUUAFFFFABRRRQAUUUUAFFFFABRRRQAUUUUAFFFFABRRRQAUUUUAQ3VpDeRhLiMOFYMMjoR0NShQOlLRQBG9vFJIrvGjMn3WZQSPpTPskJuxdGMGYLsDEcgelT0UAFFFFAHOR+Hp7nxs+uag6FLeLybOJedoP3mOehPTiujAxRRQAUUUUAFFFFABRRRQAUUUUAFFFFABRRRQAUUUUAFFFFABRRRQAUUUUAFFFFABRRRQAUUUUAFFFFABRRRQAUUUUAFFFFABRRRQAUUUUAFFFFABRRRQAUUUUAFFFFABRRRQAUUUUAFFFFABRRRQAUUUUAFFFFABRRRQAUUUUAFFFFABRRRQAUUUUAFFFFABRRRQAUUUUAFFFFABRRRQAUUUUAFFFFAH/9k=)"
      ],
      "metadata": {
        "id": "2zdncEBaZfp9"
      }
    },
    {
      "cell_type": "code",
      "source": [
        "qmodel, model_readout = create_qnn()"
      ],
      "metadata": {
        "id": "X7ZCtAZB5HEa"
      },
      "execution_count": null,
      "outputs": []
    },
    {
      "cell_type": "code",
      "source": [
        "#Qauntum Circuit that will perform the classification\n",
        "SVGCircuit(qmodel)"
      ],
      "metadata": {
        "colab": {
          "base_uri": "https://localhost:8080/",
          "height": 271
        },
        "id": "rH4W9pnw5HBt",
        "outputId": "6a93db0a-734b-48f4-fecb-58c8ad4ad033"
      },
      "execution_count": null,
      "outputs": [
        {
          "output_type": "execute_result",
          "data": {
            "text/plain": [
              "<cirq.contrib.svg.svg.SVGCircuit at 0x7f3c935466d0>"
            ],
            "image/svg+xml": "<svg xmlns=\"http://www.w3.org/2000/svg\" width=\"1097.236875\" height=\"250.0\"><line x1=\"39.810625\" x2=\"1067.236875\" y1=\"25.0\" y2=\"25.0\" stroke=\"#1967d2\" stroke-width=\"1\" /><line x1=\"39.810625\" x2=\"1067.236875\" y1=\"75.0\" y2=\"75.0\" stroke=\"#1967d2\" stroke-width=\"1\" /><line x1=\"39.810625\" x2=\"1067.236875\" y1=\"125.0\" y2=\"125.0\" stroke=\"#1967d2\" stroke-width=\"1\" /><line x1=\"39.810625\" x2=\"1067.236875\" y1=\"175.0\" y2=\"175.0\" stroke=\"#1967d2\" stroke-width=\"1\" /><line x1=\"39.810625\" x2=\"1067.236875\" y1=\"225.0\" y2=\"225.0\" stroke=\"#1967d2\" stroke-width=\"1\" /><line x1=\"109.62125\" x2=\"109.62125\" y1=\"75.0\" y2=\"125.0\" stroke=\"black\" stroke-width=\"3\" /><line x1=\"109.62125\" x2=\"109.62125\" y1=\"175.0\" y2=\"225.0\" stroke=\"black\" stroke-width=\"3\" /><line x1=\"249.99353515625\" x2=\"249.99353515625\" y1=\"25.0\" y2=\"75.0\" stroke=\"black\" stroke-width=\"3\" /><line x1=\"350.73810546875006\" x2=\"350.73810546875006\" y1=\"25.0\" y2=\"125.0\" stroke=\"black\" stroke-width=\"3\" /><line x1=\"451.48267578125007\" x2=\"451.48267578125007\" y1=\"25.0\" y2=\"175.0\" stroke=\"black\" stroke-width=\"3\" /><line x1=\"552.2272460937501\" x2=\"552.2272460937501\" y1=\"25.0\" y2=\"225.0\" stroke=\"black\" stroke-width=\"3\" /><line x1=\"651.92919921875\" x2=\"651.92919921875\" y1=\"25.0\" y2=\"75.0\" stroke=\"black\" stroke-width=\"3\" /><line x1=\"750.58853515625\" x2=\"750.58853515625\" y1=\"25.0\" y2=\"125.0\" stroke=\"black\" stroke-width=\"3\" /><line x1=\"849.2478710937501\" x2=\"849.2478710937501\" y1=\"25.0\" y2=\"175.0\" stroke=\"black\" stroke-width=\"3\" /><line x1=\"947.9072070312501\" x2=\"947.9072070312501\" y1=\"25.0\" y2=\"225.0\" stroke=\"black\" stroke-width=\"3\" /><rect x=\"10.0\" y=\"5.0\" width=\"59.62125\" height=\"40\" stroke=\"black\" fill=\"white\" stroke-width=\"0\" /><text x=\"39.810625\" y=\"25.0\" dominant-baseline=\"middle\" text-anchor=\"middle\" font-size=\"14px\" font-family=\"Arial\">(-1, -1): </text><rect x=\"10.0\" y=\"55.0\" width=\"59.62125\" height=\"40\" stroke=\"black\" fill=\"white\" stroke-width=\"0\" /><text x=\"39.810625\" y=\"75.0\" dominant-baseline=\"middle\" text-anchor=\"middle\" font-size=\"14px\" font-family=\"Arial\">(0, 0): </text><rect x=\"10.0\" y=\"105.0\" width=\"59.62125\" height=\"40\" stroke=\"black\" fill=\"white\" stroke-width=\"0\" /><text x=\"39.810625\" y=\"125.0\" dominant-baseline=\"middle\" text-anchor=\"middle\" font-size=\"14px\" font-family=\"Arial\">(0, 1): </text><rect x=\"10.0\" y=\"155.0\" width=\"59.62125\" height=\"40\" stroke=\"black\" fill=\"white\" stroke-width=\"0\" /><text x=\"39.810625\" y=\"175.0\" dominant-baseline=\"middle\" text-anchor=\"middle\" font-size=\"14px\" font-family=\"Arial\">(1, 0): </text><rect x=\"10.0\" y=\"205.0\" width=\"59.62125\" height=\"40\" stroke=\"black\" fill=\"white\" stroke-width=\"0\" /><text x=\"39.810625\" y=\"225.0\" dominant-baseline=\"middle\" text-anchor=\"middle\" font-size=\"14px\" font-family=\"Arial\">(1, 1): </text><rect x=\"89.62125\" y=\"5.0\" width=\"40\" height=\"40\" stroke=\"black\" fill=\"white\" stroke-width=\"1\" /><text x=\"109.62125\" y=\"25.0\" dominant-baseline=\"middle\" text-anchor=\"middle\" font-size=\"18px\" font-family=\"Arial\">X</text><circle cx=\"109.62125\" cy=\"75.0\" r=\"10.0\" /><rect x=\"89.62125\" y=\"105.0\" width=\"40\" height=\"40\" stroke=\"black\" fill=\"white\" stroke-width=\"1\" /><text x=\"109.62125\" y=\"125.0\" dominant-baseline=\"middle\" text-anchor=\"middle\" font-size=\"18px\" font-family=\"Arial\">X</text><circle cx=\"109.62125\" cy=\"175.0\" r=\"10.0\" /><rect x=\"89.62125\" y=\"205.0\" width=\"40\" height=\"40\" stroke=\"black\" fill=\"white\" stroke-width=\"1\" /><text x=\"109.62125\" y=\"225.0\" dominant-baseline=\"middle\" text-anchor=\"middle\" font-size=\"18px\" font-family=\"Arial\">X</text><rect x=\"149.62125\" y=\"5.0\" width=\"40\" height=\"40\" stroke=\"black\" fill=\"white\" stroke-width=\"1\" /><text x=\"169.62125\" y=\"25.0\" dominant-baseline=\"middle\" text-anchor=\"middle\" font-size=\"18px\" font-family=\"Arial\">H</text><rect x=\"209.62125\" y=\"55.0\" width=\"80.74457031250002\" height=\"40\" stroke=\"black\" fill=\"white\" stroke-width=\"1\" /><text x=\"249.99353515625\" y=\"75.0\" dominant-baseline=\"middle\" text-anchor=\"middle\" font-size=\"14px\" font-family=\"Arial\">XX^(xx-0)</text><rect x=\"209.62125\" y=\"5.0\" width=\"80.74457031250002\" height=\"40\" stroke=\"black\" fill=\"white\" stroke-width=\"1\" /><text x=\"249.99353515625\" y=\"25.0\" dominant-baseline=\"middle\" text-anchor=\"middle\" font-size=\"14px\" font-family=\"Arial\">XX</text><rect x=\"310.36582031250003\" y=\"105.0\" width=\"80.74457031250002\" height=\"40\" stroke=\"black\" fill=\"white\" stroke-width=\"1\" /><text x=\"350.73810546875006\" y=\"125.0\" dominant-baseline=\"middle\" text-anchor=\"middle\" font-size=\"14px\" font-family=\"Arial\">XX^(xx-1)</text><rect x=\"310.36582031250003\" y=\"5.0\" width=\"80.74457031250002\" height=\"40\" stroke=\"black\" fill=\"white\" stroke-width=\"1\" /><text x=\"350.73810546875006\" y=\"25.0\" dominant-baseline=\"middle\" text-anchor=\"middle\" font-size=\"14px\" font-family=\"Arial\">XX</text><rect x=\"411.11039062500004\" y=\"155.0\" width=\"80.74457031250002\" height=\"40\" stroke=\"black\" fill=\"white\" stroke-width=\"1\" /><text x=\"451.48267578125007\" y=\"175.0\" dominant-baseline=\"middle\" text-anchor=\"middle\" font-size=\"14px\" font-family=\"Arial\">XX^(xx-2)</text><rect x=\"411.11039062500004\" y=\"5.0\" width=\"80.74457031250002\" height=\"40\" stroke=\"black\" fill=\"white\" stroke-width=\"1\" /><text x=\"451.48267578125007\" y=\"25.0\" dominant-baseline=\"middle\" text-anchor=\"middle\" font-size=\"14px\" font-family=\"Arial\">XX</text><rect x=\"511.85496093750004\" y=\"205.0\" width=\"80.74457031250002\" height=\"40\" stroke=\"black\" fill=\"white\" stroke-width=\"1\" /><text x=\"552.2272460937501\" y=\"225.0\" dominant-baseline=\"middle\" text-anchor=\"middle\" font-size=\"14px\" font-family=\"Arial\">XX^(xx-3)</text><rect x=\"511.85496093750004\" y=\"5.0\" width=\"80.74457031250002\" height=\"40\" stroke=\"black\" fill=\"white\" stroke-width=\"1\" /><text x=\"552.2272460937501\" y=\"25.0\" dominant-baseline=\"middle\" text-anchor=\"middle\" font-size=\"14px\" font-family=\"Arial\">XX</text><rect x=\"612.59953125\" y=\"55.0\" width=\"78.65933593750002\" height=\"40\" stroke=\"black\" fill=\"white\" stroke-width=\"1\" /><text x=\"651.92919921875\" y=\"75.0\" dominant-baseline=\"middle\" text-anchor=\"middle\" font-size=\"14px\" font-family=\"Arial\">ZZ^(zz-0)</text><rect x=\"612.59953125\" y=\"5.0\" width=\"78.65933593750002\" height=\"40\" stroke=\"black\" fill=\"white\" stroke-width=\"1\" /><text x=\"651.92919921875\" y=\"25.0\" dominant-baseline=\"middle\" text-anchor=\"middle\" font-size=\"14px\" font-family=\"Arial\">ZZ</text><rect x=\"711.2588671875001\" y=\"105.0\" width=\"78.65933593750002\" height=\"40\" stroke=\"black\" fill=\"white\" stroke-width=\"1\" /><text x=\"750.58853515625\" y=\"125.0\" dominant-baseline=\"middle\" text-anchor=\"middle\" font-size=\"14px\" font-family=\"Arial\">ZZ^(zz-1)</text><rect x=\"711.2588671875001\" y=\"5.0\" width=\"78.65933593750002\" height=\"40\" stroke=\"black\" fill=\"white\" stroke-width=\"1\" /><text x=\"750.58853515625\" y=\"25.0\" dominant-baseline=\"middle\" text-anchor=\"middle\" font-size=\"14px\" font-family=\"Arial\">ZZ</text><rect x=\"809.9182031250001\" y=\"155.0\" width=\"78.65933593750002\" height=\"40\" stroke=\"black\" fill=\"white\" stroke-width=\"1\" /><text x=\"849.2478710937501\" y=\"175.0\" dominant-baseline=\"middle\" text-anchor=\"middle\" font-size=\"14px\" font-family=\"Arial\">ZZ^(zz-2)</text><rect x=\"809.9182031250001\" y=\"5.0\" width=\"78.65933593750002\" height=\"40\" stroke=\"black\" fill=\"white\" stroke-width=\"1\" /><text x=\"849.2478710937501\" y=\"25.0\" dominant-baseline=\"middle\" text-anchor=\"middle\" font-size=\"14px\" font-family=\"Arial\">ZZ</text><rect x=\"908.5775390625001\" y=\"205.0\" width=\"78.65933593750002\" height=\"40\" stroke=\"black\" fill=\"white\" stroke-width=\"1\" /><text x=\"947.9072070312501\" y=\"225.0\" dominant-baseline=\"middle\" text-anchor=\"middle\" font-size=\"14px\" font-family=\"Arial\">ZZ^(zz-3)</text><rect x=\"908.5775390625001\" y=\"5.0\" width=\"78.65933593750002\" height=\"40\" stroke=\"black\" fill=\"white\" stroke-width=\"1\" /><text x=\"947.9072070312501\" y=\"25.0\" dominant-baseline=\"middle\" text-anchor=\"middle\" font-size=\"14px\" font-family=\"Arial\">ZZ</text><rect x=\"1007.236875\" y=\"5.0\" width=\"40\" height=\"40\" stroke=\"black\" fill=\"white\" stroke-width=\"1\" /><text x=\"1027.236875\" y=\"25.0\" dominant-baseline=\"middle\" text-anchor=\"middle\" font-size=\"18px\" font-family=\"Arial\">H</text></svg>"
          },
          "metadata": {},
          "execution_count": 229
        }
      ]
    },
    {
      "cell_type": "code",
      "source": [
        "model = tf.keras.Sequential([\n",
        "                             \n",
        "    # The input is the data-circuit, encoded as a tf.string\n",
        "    tf.keras.layers.Input(shape=(), dtype=tf.string),\n",
        "\n",
        "    \n",
        "    # The PQC stands for Paramaterized Quantum Circuit\n",
        "    # This returns the expectation value\n",
        "    tfq.layers.PQC(qmodel, model_readout),\n",
        "])"
      ],
      "metadata": {
        "id": "OlHr9MAP5G-C"
      },
      "execution_count": null,
      "outputs": []
    },
    {
      "cell_type": "markdown",
      "source": [
        "**Hinge Loss**\n",
        "\n",
        "![Hinge loss.JPG](data:image/jpeg;base64,/9j/4AAQSkZJRgABAQEAYABgAAD/4REERXhpZgAATU0AKgAAAAgABAE7AAIAAAATAAAISodpAAQAAAABAAAIXpydAAEAAAAmAAAQ1uocAAcAAAgMAAAAPgAAAAAc6gAAAAgAAAAAAAAAAAAAAAAAAAAAAAAAAAAAAAAAAAAAAAAAAAAAAAAAAAAAAAAAAAAAAAAAAAAAAAAAAAAAAAAAAAAAAAAAAAAAAAAAAAAAAAAAAAAAAAAAAAAAAAAAAAAAAAAAAAAAAAAAAAAAAAAAAAAAAAAAAAAAAAAAAAAAAAAAAAAAAAAAAAAAAAAAAAAAAAAAAAAAAAAAAAAAAAAAAAAAAAAAAAAAAAAAAAAAAAAAAAAAAAAAAAAAAAAAAAAAAAAAAAAAAAAAAAAAAAAAAAAAAAAAAAAAAAAAAAAAAAAAAAAAAAAAAAAAAAAAAAAAAAAAAAAAAAAAAAAAAAAAAAAAAAAAAAAAAAAAAAAAAAAAAAAAAAAAAAAAAAAAAAAAAAAAAAAAAAAAAAAAAAAAAAAAAAAAAAAAAAAAAAAAAAAAAAAAAAAAAAAAAAAAAAAAAAAAAAAAAAAAAAAAAAAAAAAAAAAAAAAAAAAAAAAAAAAAAAAAAAAAAAAAAAAAAAAAAAAAAAAAAAAAAAAAAAAAAAAAAAAAAAAAAAAAAAAAAAAAAAAAAAAAAAAAAAAAAAAAAAAAAAAAAAAAAAAAAAAAAAAAAAAAAAAAAAAAAAAAAAAAAAAAAAAAAAAAAAAAAAAAAAAAAAAAAAAAAAAAAAAAAAAAAAAAAAAAAAAAAAAAAAAAAAAAAAAAAAAAAAAAAAAAAAAAAAAAAAAAAAAAAAAAAAAAAAAAAAAAAAAAAAAAAAAAAAAAAAAAAAAAAAAAAAAAAAAAAAAAAAAAAAAAAAAAAAAAAAAAAAAAAAAAAAAAAAAAAAAAAAAAAAAAAAAAAAAAAAAAAAAAAAAAAAAAAAAAAAAAAAAAAAAAAAAAAAAAAAAAAAAAAAAAAAAAAAAAAAAAAAAAAAAAAAAAAAAAAAAAAAAAAAAAAAAAAAAAAAAAAAAAAAAAAAAAAAAAAAAAAAAAAAAAAAAAAAAAAAAAAAAAAAAAAAAAAAAAAAAAAAAAAAAAAAAAAAAAAAAAAAAAAAAAAAAAAAAAAAAAAAAAAAAAAAAAAAAAAAAAAAAAAAAAAAAAAAAAAAAAAAAAAAAAAAAAAAAAAAAAAAAAAAAAAAAAAAAAAAAAAAAAAAAAAAAAAAAAAAAAAAAAAAAAAAAAAAAAAAAAAAAAAAAAAAAAAAAAAAAAAAAAAAAAAAAAAAAAAAAAAAAAAAAAAAAAAAAAAAAAAAAAAAAAAAAAAAAAAAAAAAAAAAAAAAAAAAAAAAAAAAAAAAAAAAAAAAAAAAAAAAAAAAAAAAAAAAAAAAAAAAAAAAAAAAAAAAAAAAAAAAAAAAAAAAAAAAAAAAAAAAAAAAAAAAAAAAAAAAAAAAAAAAAAAAAAAAAAAAAAAAAAAAAAAAAAAAAAAAAAAAAAAAAAAAAAAAAAAAAAAAAAAAAAAAAAAAAAAAAAAAAAAAAAAAAAAAAAAAAAAAAAAAAAAAAAAAAAAAAAAAAAAAAAAAAAAAAAAAAAAAAAAAAAAAAAAAAAAAAAAAAAAAAAAAAAAAAAAAAAAAAAAAAAAAAAAAAAAAAAAAAAAAAAAAAAAAAAAAAAAAAAAAAAAAAAAAAAAAAAAAAAAAAAAAAAAAAAAAAAAAAAAAAAAAAAAAAAAAAAAAAAAAAAAAAAAAAAAAAAAAAAAAAAAAAAAAAAAAAAAAAAAAAAAAAAAAAAAAAAAAAAAAAAAAAAAAAAAAAAAAAAAAAAAAAAAAAAAAAAAAAAAAAAAAAAAAAAAAAAAAAAAAAAAAAAAAAAAAAAAAAAAAAAAAAAAAAAAAAAAAAAAAAAAAAAAAAAAAAAAAAAAAAAAAAAAAAAAAAAAAAAAAAAAAAAAAAAAAAAAAAAAAAAAAAAAAAAAAAAAAAAAAAAAAAAAAAAAAAAAAAAAAAAAAAAAAAAAAAAAAAAAAAAAAAAAAAAAAAAAAAAAAAAAAAAAAAAAAAAAAAAAAAAAAAAAAAAAAAAAAAAAAAAAAAAAAAAAAAAAAAAAAAAAAAAAAAAAAAAAAAAAAAAAAAAAAAAAAAAAAAAAAAAAAAAAAAAAAAAAAAAAAAAAAAAAAAAAAAAAAAAAAAAAAAAAAAAAAAAAAAAAAAAAAAAAAAAAAAAAAAAAAAAAAAAAAAAAAAAAAAAAAAAAAAAAAAAAAAAAAAAAAAAAAAAAAAAAAAAAAAAAAAAAAAAAAAAAAAAAAAAAAAAAAAAAAAAAAAAAAAAAAAAAAAAAAAAAAAAAAAAAAAAAAAAAAAAAAAAAAAAAAAAAAAAAAAAAAAAAAAAAAAAAAAAAAAAAAAAAAAAAAAAAAAAAAAAAAAAAAAAAAAAAAAAAAAAAAAAAAAAAAAAAAAAAAAAAAAAAAAAAAAAAAAAAAAAAAAAAAAAAAAAAAAAAAAAAAAAAAAAAAAAAAAAAAAAAAAAAAAAAAAAAAAAAAAAAAAAAAAAAAAAAAAAAAAAAAAAAAAAAAAAAAAAAAAAAAAAAAAAAAAAAAAAAAAAAAAAAAAAAAAAAAAAAAAAAAAAAAAAAAAAAAAAAAAAAAAAAAAAAAAAAAAAAAAAAAAAAAAAAAAAAAAAAAAAAAAAAAAAAAAAAAAAAAAAAAAAAAAAAAAAAAAAAAAAAAAAAAAAAAAAAAAAAAAAAAAAAAAAAAAAAAAAAAAAAAAAAAAAAAAAAAAAAAAAAAAAAAAAAAAAAAAAAAAAAAAAAAAAAAAAAAAAAAAAAAAAAAAAAAAAAAAAAAAAAAAAAAAAAFJhdml0ZWphIFRhbmlrZWxsYQAAAAWQAwACAAAAFAAAEKyQBAACAAAAFAAAEMCSkQACAAAAAzY1AACSkgACAAAAAzY1AADqHAAHAAAIDAAACKAAAAAAHOoAAAAIAAAAAAAAAAAAAAAAAAAAAAAAAAAAAAAAAAAAAAAAAAAAAAAAAAAAAAAAAAAAAAAAAAAAAAAAAAAAAAAAAAAAAAAAAAAAAAAAAAAAAAAAAAAAAAAAAAAAAAAAAAAAAAAAAAAAAAAAAAAAAAAAAAAAAAAAAAAAAAAAAAAAAAAAAAAAAAAAAAAAAAAAAAAAAAAAAAAAAAAAAAAAAAAAAAAAAAAAAAAAAAAAAAAAAAAAAAAAAAAAAAAAAAAAAAAAAAAAAAAAAAAAAAAAAAAAAAAAAAAAAAAAAAAAAAAAAAAAAAAAAAAAAAAAAAAAAAAAAAAAAAAAAAAAAAAAAAAAAAAAAAAAAAAAAAAAAAAAAAAAAAAAAAAAAAAAAAAAAAAAAAAAAAAAAAAAAAAAAAAAAAAAAAAAAAAAAAAAAAAAAAAAAAAAAAAAAAAAAAAAAAAAAAAAAAAAAAAAAAAAAAAAAAAAAAAAAAAAAAAAAAAAAAAAAAAAAAAAAAAAAAAAAAAAAAAAAAAAAAAAAAAAAAAAAAAAAAAAAAAAAAAAAAAAAAAAAAAAAAAAAAAAAAAAAAAAAAAAAAAAAAAAAAAAAAAAAAAAAAAAAAAAAAAAAAAAAAAAAAAAAAAAAAAAAAAAAAAAAAAAAAAAAAAAAAAAAAAAAAAAAAAAAAAAAAAAAAAAAAAAAAAAAAAAAAAAAAAAAAAAAAAAAAAAAAAAAAAAAAAAAAAAAAAAAAAAAAAAAAAAAAAAAAAAAAAAAAAAAAAAAAAAAAAAAAAAAAAAAAAAAAAAAAAAAAAAAAAAAAAAAAAAAAAAAAAAAAAAAAAAAAAAAAAAAAAAAAAAAAAAAAAAAAAAAAAAAAAAAAAAAAAAAAAAAAAAAAAAAAAAAAAAAAAAAAAAAAAAAAAAAAAAAAAAAAAAAAAAAAAAAAAAAAAAAAAAAAAAAAAAAAAAAAAAAAAAAAAAAAAAAAAAAAAAAAAAAAAAAAAAAAAAAAAAAAAAAAAAAAAAAAAAAAAAAAAAAAAAAAAAAAAAAAAAAAAAAAAAAAAAAAAAAAAAAAAAAAAAAAAAAAAAAAAAAAAAAAAAAAAAAAAAAAAAAAAAAAAAAAAAAAAAAAAAAAAAAAAAAAAAAAAAAAAAAAAAAAAAAAAAAAAAAAAAAAAAAAAAAAAAAAAAAAAAAAAAAAAAAAAAAAAAAAAAAAAAAAAAAAAAAAAAAAAAAAAAAAAAAAAAAAAAAAAAAAAAAAAAAAAAAAAAAAAAAAAAAAAAAAAAAAAAAAAAAAAAAAAAAAAAAAAAAAAAAAAAAAAAAAAAAAAAAAAAAAAAAAAAAAAAAAAAAAAAAAAAAAAAAAAAAAAAAAAAAAAAAAAAAAAAAAAAAAAAAAAAAAAAAAAAAAAAAAAAAAAAAAAAAAAAAAAAAAAAAAAAAAAAAAAAAAAAAAAAAAAAAAAAAAAAAAAAAAAAAAAAAAAAAAAAAAAAAAAAAAAAAAAAAAAAAAAAAAAAAAAAAAAAAAAAAAAAAAAAAAAAAAAAAAAAAAAAAAAAAAAAAAAAAAAAAAAAAAAAAAAAAAAAAAAAAAAAAAAAAAAAAAAAAAAAAAAAAAAAAAAAAAAAAAAAAAAAAAAAAAAAAAAAAAAAAAAAAAAAAAAAAAAAAAAAAAAAAAAAAAAAAAAAAAAAAAAAAAAAAAAAAAAAAAAAAAAAAAAAAAAAAAAAAAAAAAAAAAAAAAAAAAAAAAAAAAAAAAAAAAAAAAAAAAAAAAAAAAAAAAAAAAAAAAAAAAAAAAAAAAAAAAAAAAAAAAAAAAAAAAAAAAAAAAAAAAAAAAAAAAAAAAAAAAAAAAAAAAAAAAAAAAAAAAAAAAAAAAAAAAAAAAAAAAAAAAAAAAAAAAAAAAAAAAAAAAAAAAAAAAAAAAAAAAAAAAAAAAAAAAAAAAAAAAAAAAAAAAAAAAAAAAAAAAAAAAAAAAAAAAAAAAAAAAAAAAAAAAAAAAAAAAAAAAAAAAAAAAAAAAAAAAAAAAAAAAAAAAAAAAAAAAAAAAAAAAAAAAAAAAAAAAAAAAAAAAAAAAAAAAAAAAAAAAAAAAAAAAAAAAAAAAAAAAAAAAAAAAAAAAAAAAAAAAAAAAAAAAAAAAAAAAAAAAAAAAAAAAAAAAAAAAAAAAAAAAAAAAAAAAAAAAAAAAAAAAAAAAAAAAAAAAAAAAAAAAAAAAAAAAAAAAAAAAAAAAAAAAAAAAAAAAAAAAAAAAAAAAAAAAAAAAAAAAAAAAAAAAAAAAAAAAAAAAAAAAAAAAAAAAAAAAAAAAAAAAAAAAAAAAAAAAAAAAAAAAAAAAAAAAAAAAAAAAAAAAAAAAAAAAAAAAAAAAAAAAAAAAAAAAAAAAAAAAAAAAAAAAAAAAAAAAAAAAAAAAAAAAAAAAAAAAAAAAAAAAAAAAAAAAAAAAAAAAAAAAAAAAAAAAAAAAAAAAAAAAAAAAAAAAAAAAAAAAAAAAAAAAAAAAAAAAAAAAAAAAAAAAAAAAAAAAAAAAAAAAAAAAAAAAAAAAAAAAAAAAAAAAAAAAAAAAAAAAAAAAAAAAAAAAAAAAAAAAAAAAAAAAAAAAAAAAAAAAAAAAAAAAAAAAAAAAAAAAAAAAAAAAAAAAAAAAAAAAAAAAAAAAAAAAAAAAAAAAAAAAAAAAAAAAAAAAAAAAAAAAAAAAAAAAAAAAAAAAAAAAAAAAAAAAAAAAAAAAAAAAAAAAAAAAAAAAAAAAAAAAAAAAAAAAAAAAAAAAAyMDIyOjEwOjI4IDE3OjA4OjEyADIwMjI6MTA6MjggMTc6MDg6MTIAAABSAGEAdgBpAHQAZQBqAGEAIABUAGEAbgBpAGsAZQBsAGwAYQAAAP/hCyVodHRwOi8vbnMuYWRvYmUuY29tL3hhcC8xLjAvADw/eHBhY2tldCBiZWdpbj0n77u/JyBpZD0nVzVNME1wQ2VoaUh6cmVTek5UY3prYzlkJz8+DQo8eDp4bXBtZXRhIHhtbG5zOng9ImFkb2JlOm5zOm1ldGEvIj48cmRmOlJERiB4bWxuczpyZGY9Imh0dHA6Ly93d3cudzMub3JnLzE5OTkvMDIvMjItcmRmLXN5bnRheC1ucyMiPjxyZGY6RGVzY3JpcHRpb24gcmRmOmFib3V0PSJ1dWlkOmZhZjViZGQ1LWJhM2QtMTFkYS1hZDMxLWQzM2Q3NTE4MmYxYiIgeG1sbnM6ZGM9Imh0dHA6Ly9wdXJsLm9yZy9kYy9lbGVtZW50cy8xLjEvIi8+PHJkZjpEZXNjcmlwdGlvbiByZGY6YWJvdXQ9InV1aWQ6ZmFmNWJkZDUtYmEzZC0xMWRhLWFkMzEtZDMzZDc1MTgyZjFiIiB4bWxuczp4bXA9Imh0dHA6Ly9ucy5hZG9iZS5jb20veGFwLzEuMC8iPjx4bXA6Q3JlYXRlRGF0ZT4yMDIyLTEwLTI4VDE3OjA4OjEyLjY1NDwveG1wOkNyZWF0ZURhdGU+PC9yZGY6RGVzY3JpcHRpb24+PHJkZjpEZXNjcmlwdGlvbiByZGY6YWJvdXQ9InV1aWQ6ZmFmNWJkZDUtYmEzZC0xMWRhLWFkMzEtZDMzZDc1MTgyZjFiIiB4bWxuczpkYz0iaHR0cDovL3B1cmwub3JnL2RjL2VsZW1lbnRzLzEuMS8iPjxkYzpjcmVhdG9yPjxyZGY6U2VxIHhtbG5zOnJkZj0iaHR0cDovL3d3dy53My5vcmcvMTk5OS8wMi8yMi1yZGYtc3ludGF4LW5zIyI+PHJkZjpsaT5SYXZpdGVqYSBUYW5pa2VsbGE8L3JkZjpsaT48L3JkZjpTZXE+DQoJCQk8L2RjOmNyZWF0b3I+PC9yZGY6RGVzY3JpcHRpb24+PC9yZGY6UkRGPjwveDp4bXBtZXRhPg0KICAgICAgICAgICAgICAgICAgICAgICAgICAgICAgICAgICAgICAgICAgICAgICAgICAgICAgICAgICAgICAgICAgICAgICAgICAgICAgICAgICAgICAgICAgICAgICAgICAgIAogICAgICAgICAgICAgICAgICAgICAgICAgICAgICAgICAgICAgICAgICAgICAgICAgICAgICAgICAgICAgICAgICAgICAgICAgICAgICAgICAgICAgICAgICAgICAgICAgICAgCiAgICAgICAgICAgICAgICAgICAgICAgICAgICAgICAgICAgICAgICAgICAgICAgICAgICAgICAgICAgICAgICAgICAgICAgICAgICAgICAgICAgICAgICAgICAgICAgICAgICAKICAgICAgICAgICAgICAgICAgICAgICAgICAgICAgICAgICAgICAgICAgICAgICAgICAgICAgICAgICAgICAgICAgICAgICAgICAgICAgICAgICAgICAgICAgICAgICAgICAgIAogICAgICAgICAgICAgICAgICAgICAgICAgICAgICAgICAgICAgICAgICAgICAgICAgICAgICAgICAgICAgICAgICAgICAgICAgICAgICAgICAgICAgICAgICAgICAgICAgICAgCiAgICAgICAgICAgICAgICAgICAgICAgICAgICAgICAgICAgICAgICAgICAgICAgICAgICAgICAgICAgICAgICAgICAgICAgICAgICAgICAgICAgICAgICAgICAgICAgICAgICAKICAgICAgICAgICAgICAgICAgICAgICAgICAgICAgICAgICAgICAgICAgICAgICAgICAgICAgICAgICAgICAgICAgICAgICAgICAgICAgICAgICAgICAgICAgICAgICAgICAgIAogICAgICAgICAgICAgICAgICAgICAgICAgICAgICAgICAgICAgICAgICAgICAgICAgICAgICAgICAgICAgICAgICAgICAgICAgICAgICAgICAgICAgICAgICAgICAgICAgICAgCiAgICAgICAgICAgICAgICAgICAgICAgICAgICAgICAgICAgICAgICAgICAgICAgICAgICAgICAgICAgICAgICAgICAgICAgICAgICAgICAgICAgICAgICAgICAgICAgICAgICAKICAgICAgICAgICAgICAgICAgICAgICAgICAgICAgICAgICAgICAgICAgICAgICAgICAgICAgICAgICAgICAgICAgICAgICAgICAgICAgICAgICAgICAgICAgICAgICAgICAgIAogICAgICAgICAgICAgICAgICAgICAgICAgICAgICAgICAgICAgICAgICAgICAgICAgICAgICAgICAgICAgICAgICAgICAgICAgICAgICAgICAgICAgICAgICAgICAgICAgICAgCiAgICAgICAgICAgICAgICAgICAgICAgICAgICAgICAgICAgICAgICAgICAgICAgICAgICAgICAgICAgICAgICAgICAgICAgICAgICAgICAgICAgICAgICAgICAgICAgICAgICAKICAgICAgICAgICAgICAgICAgICAgICAgICAgICAgICAgICAgICAgICAgICAgICAgICAgICAgICAgICAgICAgICAgICAgICAgICAgICAgICAgICAgICAgICAgICAgICAgICAgIAogICAgICAgICAgICAgICAgICAgICAgICAgICAgICAgICAgICAgICAgICAgICAgICAgICAgICAgICAgICAgICAgICAgICAgICAgICAgICAgICAgICAgICAgICAgICAgICAgICAgCiAgICAgICAgICAgICAgICAgICAgICAgICAgICAgICAgICAgICAgICAgICAgICAgICAgICAgICAgICAgICAgICAgICAgICAgICAgICAgICAgICAgICAgICAgICAgICAgICAgICAKICAgICAgICAgICAgICAgICAgICAgICAgICAgICAgICAgICAgICAgICAgICAgICAgICAgICAgICAgICAgICAgICAgICAgICAgICAgICAgICAgICAgICAgICAgICAgICAgICAgIAogICAgICAgICAgICAgICAgICAgICAgICAgICAgICAgICAgICAgICAgICAgICAgICAgICAgICAgICAgICAgICAgICAgICAgICAgICAgICAgICAgICAgICAgICAgICAgICAgICAgCiAgICAgICAgICAgICAgICAgICAgICAgICAgICAgICAgICAgICAgICAgICAgICAgICAgICAgICAgICAgICAgICAgICAgICAgICAgICAgICAgICAgICAgICAgICAgICAgICAgICAKICAgICAgICAgICAgICAgICAgICAgICAgICAgICAgICAgICAgICAgICAgICAgICAgICAgICAgICAgICAgICAgICAgICAgICAgICAgICAgICAgICAgICAgICAgICAgICAgICAgIAogICAgICAgICAgICAgICAgICAgICAgICAgICAgICAgICAgICAgICAgICAgICAgICAgICAgICAgICAgICAgICAgICAgICAgICAgICAgICAgICAgICAgICAgICAgICAgICAgICAgCiAgICAgICAgICAgICAgICAgICAgICAgICAgICA8P3hwYWNrZXQgZW5kPSd3Jz8+/9sAQwAHBQUGBQQHBgUGCAcHCAoRCwoJCQoVDxAMERgVGhkYFRgXGx4nIRsdJR0XGCIuIiUoKSssKxogLzMvKjInKisq/9sAQwEHCAgKCQoUCwsUKhwYHCoqKioqKioqKioqKioqKioqKioqKioqKioqKioqKioqKioqKioqKioqKioqKioqKioq/8AAEQgAPgDVAwEiAAIRAQMRAf/EAB8AAAEFAQEBAQEBAAAAAAAAAAABAgMEBQYHCAkKC//EALUQAAIBAwMCBAMFBQQEAAABfQECAwAEEQUSITFBBhNRYQcicRQygZGhCCNCscEVUtHwJDNicoIJChYXGBkaJSYnKCkqNDU2Nzg5OkNERUZHSElKU1RVVldYWVpjZGVmZ2hpanN0dXZ3eHl6g4SFhoeIiYqSk5SVlpeYmZqio6Slpqeoqaqys7S1tre4ubrCw8TFxsfIycrS09TV1tfY2drh4uPk5ebn6Onq8fLz9PX29/j5+v/EAB8BAAMBAQEBAQEBAQEAAAAAAAABAgMEBQYHCAkKC//EALURAAIBAgQEAwQHBQQEAAECdwABAgMRBAUhMQYSQVEHYXETIjKBCBRCkaGxwQkjM1LwFWJy0QoWJDThJfEXGBkaJicoKSo1Njc4OTpDREVGR0hJSlNUVVZXWFlaY2RlZmdoaWpzdHV2d3h5eoKDhIWGh4iJipKTlJWWl5iZmqKjpKWmp6ipqrKztLW2t7i5usLDxMXGx8jJytLT1NXW19jZ2uLj5OXm5+jp6vLz9PX29/j5+v/aAAwDAQACEQMRAD8A96zRmm5ozQA7NGabmjNADs0ZpuaM0AOzRmm5ozQA7NGabmjNADs0ZpuaM0AOzRmm5ozQA7NGabmjNADs0ZpuaM0AOzRmm5ozQA7NGabmjNADs0ZpuaM0AOzRmm5ozQA7NFNzRQAzNc5ceMIYPEyaR9jmfcwjM6kbQ5xxjrwCCTWzfXQs7Ga4bGIo2c59hmvP/hz5mrw3viOcbo53kaBuoJL5YjPoEQD6GgDsdM1W71LWr1Y4kTT7UmFZCctJIMZx6KM49z9K2STjjrXD6FdajB8NobjSYUkvrmSR0MqllUyTN87AEEqAcnnoKwV+ImtxeEhdZsbu9bWl02OVIWWKQZAYhc54+bvQB3uhX9/NcX1lqwiNzay5DwrtRonyU4JJyAMH3FbOa5O5vVs/iVYxs2Df2Lpj1KOCP0LVuateXdlpkk+n6fJqNwoGy2jlSNn5/vOQB+NAGhmjNcT/AMJX4t/6J/qH/gzs/wD4uuh0PUb/AFHT/O1TSZtKm3keRNNHKceuUJFAGrmjNcXrWreIYfHVppFhLZraXlrJMrvCWeIoRnPPOdwxxWQ/irxVDp+u3Dtp5XRLgxs32dv9IGA3HzcYB/OgD0vNGa47xR4i1DTIbS6tZLa109o2knvbrHlx/LlA3OfmPHFZdr4p8TeJ/hxaa94WWxjvWDmWC4iLq+0kYXDDHTPJoA9FzWLZa9/aGvX1pbri30/93PIw6yEAgL7AZzXL+GNb8X+IPLv1utH/ALJUoHP2WUSuwUeYqndgYbI5FZmo3M1h8F9a1S3+S6uGuJmcdSfNZR+goA7Ow8b6XqGsCwh84b2ZYZ2AEUzL95UOckjPcCuizXg1y5g+Ffw7mixvXUYW3d8lmzXuqn5aAMXXfGej+Hr61sr+4/0q6YCKBOXbnGcelbobIzXnPxZUbfDjADd/a0YzjnG1q9CRsJk+lAEuaM1y83xG8H287wz+JtJjkjYq6NdqCpHUHmr2j+LdA8QXEkGiaxY38sa73S2nVyozjJA7UAaV9f22nWcl1ezLDBGMvI5wFFThgVBHIPSvP/iSNanFlY2dzYpZX1xHb+VJE5lZy2c7gcbcDkYzXaWYuIrQG/ljeQDLNGpVfwFAF3NGaz9M1ix1my+16ZcLcQ72TeoI5U4I5964WDxp4gT4mJpF0tp9iljmkNusLLNAiA7XZicHdgnjtQB2l7qslhrdtBOEFrcqyq/QrIOcE+hGa1gcjivHPEmqah40+D0upzIkE4v8wG3yv7tJMA9euAa9T0a4+1aLZz5z5sEb5+qigDQzRTc0UAZXiDT7nVtDubGzuhaSTrsMpj34U9RjPcZGe1Yvgu01PTdFTRr6w+y22nQ/Z45WdT9pIPDqAThceuDk9K6rNJxQByWjult8Op7d7hLM2/2iAzSdIyJGAP6iuK8J6LfR6noGhapafubWe61FrkOClznOx1AOQMuvWvQrzwla3s2opNNJ9k1GPE0A7Pxh1PY8cjkHirml6Da6U7SwtJLO8axNNKQWKr90cAAfgBQBkXNsb/4o2cgyF06xZ8+pkfAH5Ka6a9tjd2jQrcTW5b/lpAwVh9CQaz9E0mbTpLu4vboXd3dSlnlEewBBnYgGewOM9+ta2aAMP/hG5v8AoP6x/wCBK/8AxFaenWbWFuYnuri6O7O+4cM30yAKs5ozQByesW2qt48sdTtdMee2tLSaEssigsz7SMAntt/WsSbS/EEujeJbUaK4fVp2eImZMICgXnn/AGe3rXo1HFAHnWr6Hrsmq6ZqcmnNqVtb2Qij05ZFRrefG0yliQGGO36VT8KaR428J+Hv7Mis4biJFdIkVlXa5bd5uT1GDt2+or1GigDgvDFn4g8N3k+nDSXn0qacSLKZkDxM4HmH3G7Jqzo+nW+u+DtT8PXK4WK4nt3X0BdmH6Gu04rNt9IjtNdn1C1fyxdJi4jwSHYY2t7EDIoA8/svBWsXOm6B4cv7Yw2nh+6E7XpKlLsKSQEAO4H5udwHTvXYWGuXrePb/RbvyfJS2W5twh+faSASfx4610XFUrfSrS21O41CJD9puAqyOTngdAPQUAcp8RdL1fWZdKTS9Ne5Szu1undZEGcAjaASOea7OxllmsYpLm3a2lZQXiZgxQ+mRxUtLmgCM2sBJJijJP8AsD/CnRwxRHMaKp9lAp2aM0Act4x0/VLu90e50u2+0/ZLrzGQMF2kqVDkk9ATkgc10VnHPFZRR3c3nyhAJJCMbjjk4+tT5ozQBDZWVtp9t5FnCsMW5m2r0yTkn868n8RtcaT4r8R67bWJ1JJbVbdbiGdVFodpBDKTz17Zr17NYK+ENM+1vNJ5siNcfaRAzDy1k45wACeRnBJFAHD+N7I+HPgzZ6Vpsbec7QoFHXJIZv616Xo0BtNDsbdusVvGh/BQKhn0sXOtQXk8geO3RhHDt6OeCxPfjitHNADs0U3NFADM0ZpuaM0AOzRmm5ozQA7NGabmjNADs0ZpuaM0AOzRmm5ozQA7NGabmjNADs0ZpuaM0AOzRmm5ozQA7NGabmjNADs0ZpuaM0AOzRmm5ozQA7NGabmjNADs0ZpuaM0AOzRTc0UAf//Z)"
      ],
      "metadata": {
        "id": "6DEIYk8yY-L0"
      }
    },
    {
      "cell_type": "code",
      "source": [
        "# To use Hinge Loss, we convert the labels to 1 and -1\n",
        "y_train_h = np.array([1 if i==1 else -1 for i in y_train ])\n",
        "y_valid_h = np.array([1 if i==1 else -1 for i in y_valid ])\n",
        "y_test_h = np.array([1 if i==1 else -1 for i in y_test ])"
      ],
      "metadata": {
        "id": "oCTZnPCV5G75"
      },
      "execution_count": null,
      "outputs": []
    },
    {
      "cell_type": "code",
      "source": [
        "# Let's have a look at the first label from the training dataset\n",
        "print(y_train_h[0])"
      ],
      "metadata": {
        "colab": {
          "base_uri": "https://localhost:8080/"
        },
        "id": "D5yu6a015G5C",
        "outputId": "f3e4732a-f754-446d-ff1d-b252c4ecbc6a"
      },
      "execution_count": null,
      "outputs": [
        {
          "output_type": "stream",
          "name": "stdout",
          "text": [
            "1\n"
          ]
        }
      ]
    },
    {
      "cell_type": "code",
      "source": [
        "# Custom Hinge Accuracy\n",
        "def hinge_accuracy(y_true, y_pred):\n",
        "    y_true = tf.squeeze(y_true) > 0.0\n",
        "    y_pred = tf.squeeze(y_pred) > 0.0\n",
        "    result = tf.cast(y_true == y_pred, tf.float32)\n",
        "\n",
        "    return tf.reduce_mean(result)"
      ],
      "metadata": {
        "id": "2G_dJhRZ5Gvq"
      },
      "execution_count": null,
      "outputs": []
    },
    {
      "cell_type": "markdown",
      "source": [
        "#### Train the Qnn"
      ],
      "metadata": {
        "id": "6OxvVZT3FJLt"
      }
    },
    {
      "cell_type": "code",
      "source": [
        "model.compile(\n",
        "    loss=tf.keras.losses.Hinge(),\n",
        "    optimizer=tf.keras.optimizers.Adam(learning_rate=0.001),\n",
        "    metrics=[hinge_accuracy])"
      ],
      "metadata": {
        "id": "RiKddiR-FH9M"
      },
      "execution_count": null,
      "outputs": []
    },
    {
      "cell_type": "code",
      "source": [
        "qnn_history = model.fit(\n",
        "      X_train_tfq, y_train_h,\n",
        "      batch_size=64,\n",
        "      epochs=10,\n",
        "      verbose=1,\n",
        "      validation_data=(X_valid_tfq, y_valid_h))"
      ],
      "metadata": {
        "colab": {
          "base_uri": "https://localhost:8080/"
        },
        "id": "A_1ecTh-Fsr8",
        "outputId": "4722cab9-2969-4c8e-df50-02a62eb394ab"
      },
      "execution_count": null,
      "outputs": [
        {
          "output_type": "stream",
          "name": "stdout",
          "text": [
            "Epoch 1/10\n",
            "160/160 [==============================] - 7s 43ms/step - loss: 0.9573 - hinge_accuracy: 0.5355 - val_loss: 0.8824 - val_hinge_accuracy: 0.5673\n",
            "Epoch 2/10\n",
            "160/160 [==============================] - 7s 46ms/step - loss: 0.8418 - hinge_accuracy: 0.5749 - val_loss: 0.8408 - val_hinge_accuracy: 0.5673\n",
            "Epoch 3/10\n",
            "160/160 [==============================] - 7s 43ms/step - loss: 0.8102 - hinge_accuracy: 0.5756 - val_loss: 0.8173 - val_hinge_accuracy: 0.6051\n",
            "Epoch 4/10\n",
            "160/160 [==============================] - 11s 67ms/step - loss: 0.7780 - hinge_accuracy: 0.6277 - val_loss: 0.7924 - val_hinge_accuracy: 0.6142\n",
            "Epoch 5/10\n",
            "160/160 [==============================] - 7s 41ms/step - loss: 0.7514 - hinge_accuracy: 0.6325 - val_loss: 0.7790 - val_hinge_accuracy: 0.6105\n",
            "Epoch 6/10\n",
            "160/160 [==============================] - 6s 39ms/step - loss: 0.7383 - hinge_accuracy: 0.6334 - val_loss: 0.7744 - val_hinge_accuracy: 0.6105\n",
            "Epoch 7/10\n",
            "160/160 [==============================] - 6s 40ms/step - loss: 0.7335 - hinge_accuracy: 0.6329 - val_loss: 0.7736 - val_hinge_accuracy: 0.6105\n",
            "Epoch 8/10\n",
            "160/160 [==============================] - 6s 38ms/step - loss: 0.7322 - hinge_accuracy: 0.6332 - val_loss: 0.7740 - val_hinge_accuracy: 0.6105\n",
            "Epoch 9/10\n",
            "160/160 [==============================] - 6s 39ms/step - loss: 0.7318 - hinge_accuracy: 0.6326 - val_loss: 0.7742 - val_hinge_accuracy: 0.6105\n",
            "Epoch 10/10\n",
            "160/160 [==============================] - 9s 56ms/step - loss: 0.7317 - hinge_accuracy: 0.6330 - val_loss: 0.7745 - val_hinge_accuracy: 0.6105\n"
          ]
        }
      ]
    },
    {
      "cell_type": "code",
      "source": [
        "model.evaluate(X_test_tfq, y_test_h)"
      ],
      "metadata": {
        "colab": {
          "base_uri": "https://localhost:8080/"
        },
        "id": "M6m_QYYtGD_M",
        "outputId": "093eb81b-e10d-48d5-91c6-0f14324dca4f"
      },
      "execution_count": null,
      "outputs": [
        {
          "output_type": "stream",
          "name": "stdout",
          "text": [
            "63/63 [==============================] - 1s 10ms/step - loss: 0.7059 - hinge_accuracy: 0.6473\n"
          ]
        },
        {
          "output_type": "execute_result",
          "data": {
            "text/plain": [
              "[0.7059072256088257, 0.6473214030265808]"
            ]
          },
          "metadata": {},
          "execution_count": 237
        }
      ]
    },
    {
      "cell_type": "markdown",
      "source": [
        "### Results"
      ],
      "metadata": {
        "id": "4uNcdDlIGe0M"
      }
    },
    {
      "cell_type": "code",
      "source": [
        "# Visualize Accuracy\n",
        "plt.plot(qnn_history.history['hinge_accuracy'])\n",
        "plt.plot(qnn_history.history['val_hinge_accuracy'])\n",
        "plt.title('Model Accuracy')\n",
        "plt.xlabel('Epoch') \n",
        "plt.ylabel('Accuracy')\n",
        "plt.legend(['train','test'],loc=\"best\")\n",
        "plt.show()"
      ],
      "metadata": {
        "colab": {
          "base_uri": "https://localhost:8080/",
          "height": 295
        },
        "id": "WlML2-JYGcg8",
        "outputId": "03f51863-536f-4ec1-e8c4-c86052bee07a"
      },
      "execution_count": null,
      "outputs": [
        {
          "output_type": "display_data",
          "data": {
            "text/plain": [
              "<Figure size 432x288 with 1 Axes>"
            ],
            "image/png": "[encoded data removed]"
          },
          "metadata": {
            "needs_background": "light"
          }
        }
      ]
    },
    {
      "cell_type": "code",
      "source": [
        "# Visualize Loss\n",
        "plt.plot(qnn_history.history['loss'])\n",
        "plt.plot(qnn_history.history['val_loss'])\n",
        "plt.title('Model Loss')\n",
        "plt.xlabel('Epoch')\n",
        "plt.ylabel('Loss')\n",
        "plt.legend(['train','test'],loc=\"best\")\n",
        "plt.show()"
      ],
      "metadata": {
        "colab": {
          "base_uri": "https://localhost:8080/",
          "height": 295
        },
        "id": "xuRoUWJiIem8",
        "outputId": "87d067d8-26d2-4eaf-eda6-81547dca8e4a"
      },
      "execution_count": null,
      "outputs": [
        {
          "output_type": "display_data",
          "data": {
            "text/plain": [
              "<Figure size 432x288 with 1 Axes>"
            ],
            "image/png": "[encoded data removed]"
          },
          "metadata": {
            "needs_background": "light"
          }
        }
      ]
    },
    {
      "cell_type": "markdown",
      "source": [
        "### Saving The Model Weights"
      ],
      "metadata": {
        "id": "wHDNLMH2L08V"
      }
    },
    {
      "cell_type": "code",
      "source": [
        "#Saving the weights\n",
        "model.save_weights('/content/sample_data/QModelWeights')"
      ],
      "metadata": {
        "id": "Z2Jpr0oKJQKs"
      },
      "execution_count": null,
      "outputs": []
    },
    {
      "cell_type": "markdown",
      "source": [
        "### Reference"
      ],
      "metadata": {
        "id": "xu2xTeDCMWek"
      }
    },
    {
      "cell_type": "markdown",
      "source": [
        "- [https://www.tensorflow.org/quantum/tutorials/mnist](https://www.tensorflow.org/quantum/tutorials/mnist)\n",
        "- [https://quantumai.google/cirq/tutorials](https://quantumai.google/cirq/tutorials)"
      ],
      "metadata": {
        "id": "Jf-_bqyTMaVF"
      }
    }
  ]
}